{
 "cells": [
  {
   "cell_type": "code",
   "execution_count": null,
   "id": "3915a060",
   "metadata": {},
   "outputs": [],
   "source": [
    "#=========2.5.4~2.5.8==============\n",
    "class Account:\n",
    "    interest = 0.02    # 类属性\n",
    "    def __init__(self,account_holder):\n",
    "        self.balance = 0\n",
    "        self.holder = account_holder\n",
    "    def deposit(self,amount):\n",
    "        self.balance = self.balance + amount\n",
    "        return self.balance\n",
    "    def withdraw(self,amount):\n",
    "        if self.balance < amount:\n",
    "            return 'Insufficient funds'\n",
    "        self.balance = self.balance - amount\n",
    "        return self.balance\n"
   ]
  },
  {
   "cell_type": "code",
   "execution_count": 9,
   "id": "7046204e",
   "metadata": {},
   "outputs": [
    {
     "name": "stdout",
     "output_type": "stream",
     "text": [
      "0.02\n",
      "0.02\n"
     ]
    }
   ],
   "source": [
    "spock_account = Account('Spock')\n",
    "kirk_account = Account('Kirk')\n",
    "print(spock_account.interest)\n",
    "print(kirk_account.interest)"
   ]
  },
  {
   "cell_type": "code",
   "execution_count": 10,
   "id": "e71ea212",
   "metadata": {},
   "outputs": [
    {
     "name": "stdout",
     "output_type": "stream",
     "text": [
      "0.04\n",
      "0.04\n"
     ]
    }
   ],
   "source": [
    "# 修改类属性\n",
    "Account.interest = 0.04\n",
    "\n",
    "print(spock_account.interest)\n",
    "print(kirk_account.interest)\n",
    "# <expression> . <name>\n",
    "# 计算点表达式:<name>与对象实例属性匹配,如果对象实例属性中没有<name>,则在类中查找,返回类属性"
   ]
  },
  {
   "cell_type": "code",
   "execution_count": null,
   "id": "98116b04",
   "metadata": {},
   "outputs": [
    {
     "name": "stdout",
     "output_type": "stream",
     "text": [
      "0.08 \n",
      "\n",
      "0.04\n",
      "0.04 \n",
      "\n",
      "0.05\n",
      "0.08\n"
     ]
    }
   ],
   "source": [
    "kirk_account.interest = 0.08  # 为该实例创建名为interest的属性\n",
    "print(kirk_account.interest,'\\n')\n",
    "\n",
    "print(Account.interest)\n",
    "print(spock_account.interest,'\\n')\n",
    "\n",
    "Account.interest = 0.05  # 改变类属性\n",
    "print(spock_account.interest) # 该实例中没有与interest同名的属性,故同类属性\n",
    "print(kirk_account.interest)  # 该实例存在与interest同名的属性.改变了类属性,不会影响该实例属性\n"
   ]
  },
  {
   "cell_type": "code",
   "execution_count": 12,
   "id": "695477ba",
   "metadata": {},
   "outputs": [],
   "source": [
    "kirk_account.test = 0.1"
   ]
  },
  {
   "cell_type": "code",
   "execution_count": null,
   "id": "a6c7b942",
   "metadata": {},
   "outputs": [
    {
     "data": {
      "text/plain": [
       "0.1"
      ]
     },
     "execution_count": 13,
     "metadata": {},
     "output_type": "execute_result"
    }
   ],
   "source": [
    "kirk_account.test # 原来真能直接创建一个类定义里没有的实例属性"
   ]
  },
  {
   "cell_type": "code",
   "execution_count": 14,
   "id": "417fca69",
   "metadata": {},
   "outputs": [],
   "source": [
    "#====2.5.5,2.5.6继承和使用继承==============\n",
    "# 子类继承其父类的属性，但可以重写某些属性，包括某些方法。\n",
    "# 在子类中未指定的任何内容都会被自动假定为与父类的行为一样。\n",
    "class CheckingAccount(Account):   # 父类放在括号里,表示继承\n",
    "    '''从账号取钱会扣除手续费的账号'''\n",
    "    withdraw_charge = 1\n",
    "    interest = 0.01\n",
    "    def withdraw(self,amount):  # 在子类中定义与父类同名的withdraw方法,覆盖父类中定义的这个方法\n",
    "        return Account.withdraw(self,amount + self.withdraw_charge)  # 这行的两个self容易漏掉"
   ]
  },
  {
   "cell_type": "code",
   "execution_count": null,
   "id": "f7e53e0d",
   "metadata": {},
   "outputs": [
    {
     "name": "stdout",
     "output_type": "stream",
     "text": [
      "10\n",
      "4\n",
      "0.01\n"
     ]
    }
   ],
   "source": [
    "checking = CheckingAccount('Sam')\n",
    "print(checking.deposit(10))  # 子类中未定义,使用父类中的\n",
    "print(checking.withdraw(5))  # 子类重写withdraw方法  (其实是先在子类中查找该名称,若没找到,则在该类的父类中查找)\n",
    "print(checking.interest)     # 子类重写父类的类属性\n",
    "# 总之,点表达式的<name>,先在实例对象中查找,若没找到,找所在的类,若还没找到,找所在类的父类\n",
    "# 对象的类始终保持不变,checking 是绑定到 CheckingAccount 的实例，而不是 Account 的实例"
   ]
  },
  {
   "cell_type": "code",
   "execution_count": null,
   "id": "8cf05f6f",
   "metadata": {},
   "outputs": [],
   "source": [
    "# 值得细品:\n",
    "# 接口:在面向对象的程序中，不同类型的对象将共享相同的属性名称是极其常见的。对象接口是这些属性的属性和条件的集合。\n",
    "# 在使用对象（不是实现对象）的时候，我们只假设它们的属性，而不假设对象类型，则对将来的更改最可靠。\n",
    "# 例如耳朵，我们不先考虑它是猫的耳朵，还是狗的耳朵，我们只知道它是耳朵。我们只说耳朵是有形状的，它可以听见某种声音然后产生反馈的。\n",
    "# 等到以后，我们需要它是狗的耳朵时，我们在具体说它是漏斗状的，它的听力范围大概在 24 米左右。\n",
    "# 也就是说，他们使用对象抽象，而不是对其实现进行任何假设。\n",
    "\n",
    "# 对象抽象\n",
    "# # 运行彩票的例子\n",
    "# def deposit_all(winners, amount=5):\n",
    "#     for account in winners:\n",
    "#         account.deposit(amount)  # 这里调用的是实例 account 的 deposit 方法\n",
    "#         # 对于不同实例来说，它们的 deposit 方法可能不同。这个例子相对于下面来讲，更加具有健壮性\n",
    "\n",
    "# 这个例子中对所有符合要求的account都调用deposit方法,虽然不同对象的deposit方法可能不同,但是都抽象为同一含义:就是给账户增加余额\n",
    "# 而当我们真正要计算给特定账户增加多少余额时,再考虑特定账户的deposit方法如何,而在这里的抽象暂不考虑,也就是不对deposit的实现做任何假设\n",
    "\n",
    "\n",
    "\n",
    "# def deposit_all(winners, amount=5):\n",
    "#     for account in winners:\n",
    "#         Account.deposit(account, amount)   # 这里调用的是类 Account 中的 deposit 方法\n",
    "\n",
    "# 这里对deposit的实现增加了假设:使用Account类中定义的deposit方法给所有winners账户增加余额\n",
    "# 违反了抽象屏障,对于部分账户可能不适用这个deposit方法"
   ]
  },
  {
   "cell_type": "code",
   "execution_count": 17,
   "id": "d8d3fc8b",
   "metadata": {},
   "outputs": [],
   "source": [
    "#=======2.5.7多继承======================\n",
    "# 多重继承:python支持子类从多个基类(即父类)继承属性\n",
    "class SavingsAccount(Account):\n",
    "    deposit_charge = 2\n",
    "    def deposit(self, amount):\n",
    "        return Account.deposit(self,amount - self.deposit_charge)\n",
    "    \n",
    "\n",
    "class AsSeenOnTVAccount(CheckingAccount,SavingsAccount):  # 存款和提款都收取费用\n",
    "    def __init__(self, account_holder):\n",
    "        self.holder = account_holder\n",
    "        self.balance = 1"
   ]
  },
  {
   "cell_type": "code",
   "execution_count": null,
   "id": "09f9868a",
   "metadata": {},
   "outputs": [
    {
     "name": "stdout",
     "output_type": "stream",
     "text": [
      "1\n",
      "19\n",
      "13\n"
     ]
    }
   ],
   "source": [
    "such_a_deal = AsSeenOnTVAccount(\"John\")\n",
    "\n",
    "print(such_a_deal.balance)\n",
    "\n",
    "print(such_a_deal.deposit(20))\n",
    "\n",
    "print(such_a_deal.withdraw(5))"
   ]
  },
  {
   "cell_type": "code",
   "execution_count": null,
   "id": "a63db7f2",
   "metadata": {},
   "outputs": [
    {
     "name": "stdout",
     "output_type": "stream",
     "text": [
      "2\n",
      "1\n"
     ]
    }
   ],
   "source": [
    "print(such_a_deal.deposit_charge)\n",
    "\n",
    "print(such_a_deal.withdraw_charge)\n",
    "\n",
    "# 仍然先在实例对象中找属性名称,再到所在类内,再到父类\n",
    "# 多继承时有多个父类,python按照 从子到父,从左到右 的顺序检查类中的属性名称 "
   ]
  },
  {
   "cell_type": "code",
   "execution_count": 20,
   "id": "7a23e696",
   "metadata": {},
   "outputs": [
    {
     "data": {
      "text/plain": [
       "['AsSeenOnTVAccount', 'CheckingAccount', 'SavingsAccount', 'Account', 'object']"
      ]
     },
     "execution_count": 20,
     "metadata": {},
     "output_type": "execute_result"
    }
   ],
   "source": [
    "# C3 方法解析排序:解析python检查的顺序\n",
    "[c.__name__ for c in AsSeenOnTVAccount.mro()]"
   ]
  },
  {
   "cell_type": "code",
   "execution_count": null,
   "id": "c6a918a6",
   "metadata": {},
   "outputs": [],
   "source": [
    "# 函数式编程\n",
    "# 面向对象编程"
   ]
  }
 ],
 "metadata": {
  "kernelspec": {
   "display_name": "Python 3",
   "language": "python",
   "name": "python3"
  },
  "language_info": {
   "codemirror_mode": {
    "name": "ipython",
    "version": 3
   },
   "file_extension": ".py",
   "mimetype": "text/x-python",
   "name": "python",
   "nbconvert_exporter": "python",
   "pygments_lexer": "ipython3",
   "version": "3.12.2"
  }
 },
 "nbformat": 4,
 "nbformat_minor": 5
}
