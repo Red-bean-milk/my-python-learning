{
 "cells": [
  {
   "cell_type": "code",
   "execution_count": 1,
   "id": "6ef3868c",
   "metadata": {},
   "outputs": [],
   "source": [
    "#=====2.4.1==============================================\n",
    "from datetime import date # date是一个类"
   ]
  },
  {
   "cell_type": "code",
   "execution_count": 2,
   "id": "f57e7289",
   "metadata": {},
   "outputs": [],
   "source": [
    "tues = date(2025,10,23)  # 创建一个date的实例对象"
   ]
  },
  {
   "cell_type": "code",
   "execution_count": 3,
   "id": "8cb82231",
   "metadata": {},
   "outputs": [
    {
     "name": "stdout",
     "output_type": "stream",
     "text": [
      "2025-10-23\n"
     ]
    }
   ],
   "source": [
    "print(tues)"
   ]
  },
  {
   "cell_type": "code",
   "execution_count": 4,
   "id": "946fd3bf",
   "metadata": {},
   "outputs": [
    {
     "name": "stdout",
     "output_type": "stream",
     "text": [
      "24 days, 0:00:00\n"
     ]
    }
   ],
   "source": [
    "print(date(2025,11,16)-tues)"
   ]
  },
  {
   "cell_type": "code",
   "execution_count": 5,
   "id": "37677d55",
   "metadata": {},
   "outputs": [
    {
     "data": {
      "text/plain": [
       "2025"
      ]
     },
     "execution_count": 5,
     "metadata": {},
     "output_type": "execute_result"
    }
   ],
   "source": [
    "tues.year   # 使用点语法：访问实例对象tues的属性year"
   ]
  },
  {
   "cell_type": "code",
   "execution_count": 6,
   "id": "222ff677",
   "metadata": {},
   "outputs": [
    {
     "data": {
      "text/plain": [
       "'Thursday, October, 23'"
      ]
     },
     "execution_count": 6,
     "metadata": {},
     "output_type": "execute_result"
    }
   ],
   "source": [
    "tues.strftime('%A, %B, %d')  \n",
    "# 使用点语法：访问实例对象tues的属性strftime(),也叫做方法。\n",
    "# 方法也是属性，只是该属性的值是一个函数。通过给函数输入参数，再结合对象本身所携带的数据，输出结果"
   ]
  },
  {
   "cell_type": "code",
   "execution_count": 7,
   "id": "62561c61",
   "metadata": {},
   "outputs": [
    {
     "data": {
      "text/plain": [
       "True"
      ]
     },
     "execution_count": 7,
     "metadata": {},
     "output_type": "execute_result"
    }
   ],
   "source": [
    "# 数字、字符串、列表、区间等都是对象\n",
    "# 它们本身表示数据，也拥有行为\n",
    "'12345'.isnumeric()  # 判断字符串是否全是数字(阿拉伯数字，汉字...)"
   ]
  },
  {
   "cell_type": "code",
   "execution_count": 8,
   "id": "33eac1d1",
   "metadata": {},
   "outputs": [
    {
     "data": {
      "text/plain": [
       "False"
      ]
     },
     "execution_count": 8,
     "metadata": {},
     "output_type": "execute_result"
    }
   ],
   "source": [
    "'123abc'.isnumeric()"
   ]
  },
  {
   "cell_type": "code",
   "execution_count": 9,
   "id": "2e114a21",
   "metadata": {},
   "outputs": [
    {
     "data": {
      "text/plain": [
       "True"
      ]
     },
     "execution_count": 9,
     "metadata": {},
     "output_type": "execute_result"
    }
   ],
   "source": [
    "'一二三'.isnumeric()"
   ]
  },
  {
   "cell_type": "code",
   "execution_count": 10,
   "id": "9c1341d3",
   "metadata": {},
   "outputs": [
    {
     "data": {
      "text/plain": [
       "'ROBErt De nIrO'"
      ]
     },
     "execution_count": 10,
     "metadata": {},
     "output_type": "execute_result"
    }
   ],
   "source": [
    "'robeRT dE NiRo'.swapcase()  # 反转大小写"
   ]
  },
  {
   "cell_type": "code",
   "execution_count": 11,
   "id": "b53781d6",
   "metadata": {},
   "outputs": [
    {
     "data": {
      "text/plain": [
       "'EYES'"
      ]
     },
     "execution_count": 11,
     "metadata": {},
     "output_type": "execute_result"
    }
   ],
   "source": [
    "'eyes'.upper()"
   ]
  },
  {
   "cell_type": "code",
   "execution_count": 12,
   "id": "bc860d49",
   "metadata": {},
   "outputs": [
    {
     "data": {
      "text/plain": [
       "True"
      ]
     },
     "execution_count": 12,
     "metadata": {},
     "output_type": "execute_result"
    }
   ],
   "source": [
    "'eyes'.upper().endswith('YES')"
   ]
  },
  {
   "cell_type": "code",
   "execution_count": 13,
   "id": "a16117c7",
   "metadata": {},
   "outputs": [],
   "source": [
    "#=========2.4.2 序列对象=================\n",
    "# 对象和元素值\n",
    "first = ['coin', 'string', 'myriad']\n",
    "suits = first    # suits和first指向同一个对象"
   ]
  },
  {
   "cell_type": "code",
   "execution_count": 14,
   "id": "1f3fa79c",
   "metadata": {},
   "outputs": [
    {
     "data": {
      "text/plain": [
       "'myriad'"
      ]
     },
     "execution_count": 14,
     "metadata": {},
     "output_type": "execute_result"
    }
   ],
   "source": [
    "suits.pop()"
   ]
  },
  {
   "cell_type": "code",
   "execution_count": 15,
   "id": "5feea065",
   "metadata": {},
   "outputs": [
    {
     "name": "stdout",
     "output_type": "stream",
     "text": [
      "['coin', 'string']\n",
      "['coin', 'string']\n"
     ]
    }
   ],
   "source": [
    "print(suits)\n",
    "print(first)"
   ]
  },
  {
   "cell_type": "code",
   "execution_count": 16,
   "id": "fdeddf87",
   "metadata": {},
   "outputs": [],
   "source": [
    "suits.remove('string')"
   ]
  },
  {
   "cell_type": "code",
   "execution_count": 17,
   "id": "938295a8",
   "metadata": {},
   "outputs": [
    {
     "name": "stdout",
     "output_type": "stream",
     "text": [
      "['coin']\n",
      "['coin']\n"
     ]
    }
   ],
   "source": [
    "print(suits)\n",
    "print(first)"
   ]
  },
  {
   "cell_type": "code",
   "execution_count": 18,
   "id": "567e50aa",
   "metadata": {},
   "outputs": [
    {
     "name": "stdout",
     "output_type": "stream",
     "text": [
      "['coin', 'cup']\n",
      "['coin', 'cup']\n"
     ]
    }
   ],
   "source": [
    "suits.append('cup')\n",
    "print(suits)\n",
    "print(first)"
   ]
  },
  {
   "cell_type": "code",
   "execution_count": 19,
   "id": "c3d06234",
   "metadata": {},
   "outputs": [
    {
     "name": "stdout",
     "output_type": "stream",
     "text": [
      "['coin', 'cup', 'sword', 'club']\n",
      "['coin', 'cup', 'sword', 'club']\n"
     ]
    }
   ],
   "source": [
    "suits.extend(['sword', 'club'])\n",
    "print(suits)\n",
    "print(first)"
   ]
  },
  {
   "cell_type": "code",
   "execution_count": 20,
   "id": "3010e781",
   "metadata": {},
   "outputs": [
    {
     "name": "stdout",
     "output_type": "stream",
     "text": [
      "['coin', 'cup', 'spade', 'club']\n",
      "['coin', 'cup', 'spade', 'club']\n"
     ]
    }
   ],
   "source": [
    "suits[2] = 'spade'\n",
    "print(suits)\n",
    "print(first)"
   ]
  },
  {
   "cell_type": "code",
   "execution_count": 21,
   "id": "f1d9ca55",
   "metadata": {},
   "outputs": [
    {
     "name": "stdout",
     "output_type": "stream",
     "text": [
      "['heart', 'diamond', 'spade', 'club']\n",
      "['heart', 'diamond', 'spade', 'club']\n"
     ]
    }
   ],
   "source": [
    "suits[0:2] = ['heart', 'diamond']\n",
    "print(suits)\n",
    "print(first)"
   ]
  },
  {
   "cell_type": "code",
   "execution_count": 22,
   "id": "b1debf18",
   "metadata": {},
   "outputs": [
    {
     "data": {
      "text/plain": [
       "['heart', 'diamond', 'spade', 'club']"
      ]
     },
     "execution_count": 22,
     "metadata": {},
     "output_type": "execute_result"
    }
   ],
   "source": [
    "nest = list(suits)   # nest是suits的一个副本,他们指向的是值相同的不同对象\n",
    "nest"
   ]
  },
  {
   "cell_type": "code",
   "execution_count": 23,
   "id": "54046428",
   "metadata": {},
   "outputs": [
    {
     "name": "stdout",
     "output_type": "stream",
     "text": [
      "[['heart', 'diamond', 'spade', 'club'], 'diamond', 'spade', 'club']\n",
      "['heart', 'diamond', 'spade', 'club']\n"
     ]
    }
   ],
   "source": [
    "nest[0] = suits    # nest[0]和suits指向同一个对象\n",
    "print(nest)\n",
    "print(suits)"
   ]
  },
  {
   "cell_type": "code",
   "execution_count": 24,
   "id": "c0ad6197",
   "metadata": {},
   "outputs": [
    {
     "name": "stdout",
     "output_type": "stream",
     "text": [
      "['heart', 'diamond', 'Joker', 'spade', 'club']\n",
      "[['heart', 'diamond', 'Joker', 'spade', 'club'], 'diamond', 'spade', 'club']\n"
     ]
    }
   ],
   "source": [
    "suits.insert(2,'Joker')\n",
    "print(suits)\n",
    "print(nest)"
   ]
  },
  {
   "cell_type": "code",
   "execution_count": 25,
   "id": "2106ddfd",
   "metadata": {},
   "outputs": [
    {
     "name": "stdout",
     "output_type": "stream",
     "text": [
      "[['heart', 'diamond', 'spade', 'club'], 'diamond', 'spade', 'club']\n",
      "['heart', 'diamond', 'spade', 'club']\n"
     ]
    }
   ],
   "source": [
    "nest[0].pop(2)\n",
    "print(nest)\n",
    "print(suits)"
   ]
  },
  {
   "cell_type": "code",
   "execution_count": 26,
   "id": "f90bd702",
   "metadata": {},
   "outputs": [
    {
     "name": "stdout",
     "output_type": "stream",
     "text": [
      "True\n",
      "True\n",
      "False\n",
      "True\n",
      "True\n"
     ]
    }
   ],
   "source": [
    "print(suits is nest[0])\n",
    "print(first is suits)\n",
    "\n",
    "print(suits is ['heart', 'diamond', 'spade', 'club'])\n",
    "print(suits == ['heart', 'diamond', 'spade', 'club'])\n",
    "\n",
    "print(first == suits)"
   ]
  },
  {
   "cell_type": "code",
   "execution_count": 27,
   "id": "4d021a15",
   "metadata": {},
   "outputs": [
    {
     "name": "stdout",
     "output_type": "stream",
     "text": [
      "['♡', '♢', '♤', '♧']\n"
     ]
    }
   ],
   "source": [
    "from unicodedata import lookup\n",
    "print([lookup('WHITE '+ s.upper() + ' SUIT') for s in suits])"
   ]
  },
  {
   "cell_type": "code",
   "execution_count": 28,
   "id": "0af306e7",
   "metadata": {},
   "outputs": [
    {
     "name": "stdout",
     "output_type": "stream",
     "text": [
      "1 5\n"
     ]
    },
    {
     "data": {
      "text/plain": [
       "(1, 5)"
      ]
     },
     "execution_count": 28,
     "metadata": {},
     "output_type": "execute_result"
    }
   ],
   "source": [
    "# 元组\n",
    "print(1,2+3)\n",
    "1,2+3"
   ]
  },
  {
   "cell_type": "code",
   "execution_count": 29,
   "id": "ebc32375",
   "metadata": {},
   "outputs": [
    {
     "data": {
      "text/plain": [
       "tuple"
      ]
     },
     "execution_count": 29,
     "metadata": {},
     "output_type": "execute_result"
    }
   ],
   "source": [
    "type((10,20))"
   ]
  },
  {
   "cell_type": "code",
   "execution_count": 30,
   "id": "e4bacbdc",
   "metadata": {},
   "outputs": [
    {
     "data": {
      "text/plain": [
       "()"
      ]
     },
     "execution_count": 30,
     "metadata": {},
     "output_type": "execute_result"
    }
   ],
   "source": [
    "()"
   ]
  },
  {
   "cell_type": "code",
   "execution_count": 31,
   "id": "6e1b3719",
   "metadata": {},
   "outputs": [
    {
     "data": {
      "text/plain": [
       "(10,)"
      ]
     },
     "execution_count": 31,
     "metadata": {},
     "output_type": "execute_result"
    }
   ],
   "source": [
    "(10,)"
   ]
  },
  {
   "cell_type": "code",
   "execution_count": 32,
   "id": "5ccb23f1",
   "metadata": {},
   "outputs": [
    {
     "name": "stdout",
     "output_type": "stream",
     "text": [
      "<class 'int'>\n",
      "<class 'tuple'>\n",
      "<class 'tuple'>\n"
     ]
    }
   ],
   "source": [
    "print(type( (10) ))\n",
    "print(type( (10,) ))\n",
    "print(type( () ))"
   ]
  },
  {
   "cell_type": "code",
   "execution_count": 33,
   "id": "e1c4e3ec",
   "metadata": {},
   "outputs": [
    {
     "name": "stdout",
     "output_type": "stream",
     "text": [
      "8\n",
      "left\n",
      "2\n",
      "5\n"
     ]
    }
   ],
   "source": [
    "code = (\"up\", \"up\", \"down\", \"down\") + (\"left\", \"right\") * 2\n",
    "print(len(code))\n",
    "print(code[4])\n",
    "print(code.count('up'))\n",
    "print(code.index('right'))"
   ]
  },
  {
   "cell_type": "code",
   "execution_count": 34,
   "id": "8c104bd6",
   "metadata": {},
   "outputs": [
    {
     "name": "stdout",
     "output_type": "stream",
     "text": [
      "(10, 20, [30, 40])\n",
      "<class 'tuple'>\n",
      "(10, 20, [25, 40])\n"
     ]
    }
   ],
   "source": [
    "a = (10,20,[30,40])\n",
    "print(a)\n",
    "print(type(a))\n",
    "a[2][0] = 25\n",
    "print(a)"
   ]
  },
  {
   "cell_type": "code",
   "execution_count": 35,
   "id": "54570ebc",
   "metadata": {},
   "outputs": [],
   "source": [
    "# a[0] = 15\n",
    "# ---------------------------------------------------------------------------\n",
    "# TypeError                                 Traceback (most recent call last)\n",
    "# Cell In[51], line 1\n",
    "# ----> 1 a[0] = 15\n",
    "\n",
    "# TypeError: 'tuple' object does not support item assignment"
   ]
  },
  {
   "cell_type": "code",
   "execution_count": 36,
   "id": "fb17e995",
   "metadata": {},
   "outputs": [
    {
     "data": {
      "text/plain": [
       "5"
      ]
     },
     "execution_count": 36,
     "metadata": {},
     "output_type": "execute_result"
    }
   ],
   "source": [
    "# 字典\n",
    "numerals = {'I': 1.0, 'V': 5, 'X': 10}\n",
    "numerals['V']"
   ]
  },
  {
   "cell_type": "code",
   "execution_count": 37,
   "id": "8307f72d",
   "metadata": {},
   "outputs": [
    {
     "name": "stdout",
     "output_type": "stream",
     "text": [
      "{'I': 1.0, 'V': 5, 'X': 10, 'L': 50}\n"
     ]
    }
   ],
   "source": [
    "numerals['L'] = 50\n",
    "print(numerals)"
   ]
  },
  {
   "cell_type": "code",
   "execution_count": 38,
   "id": "9e901534",
   "metadata": {},
   "outputs": [
    {
     "data": {
      "text/plain": [
       "dict_values([1.0, 5, 10, 50])"
      ]
     },
     "execution_count": 38,
     "metadata": {},
     "output_type": "execute_result"
    }
   ],
   "source": [
    "numerals.values()"
   ]
  },
  {
   "cell_type": "code",
   "execution_count": 39,
   "id": "1e3e1b4b",
   "metadata": {},
   "outputs": [
    {
     "name": "stdout",
     "output_type": "stream",
     "text": [
      "dict_values([1.0, 5, 10, 50])\n"
     ]
    }
   ],
   "source": [
    "print(numerals.values())"
   ]
  },
  {
   "cell_type": "code",
   "execution_count": 40,
   "id": "8dfb2005",
   "metadata": {},
   "outputs": [
    {
     "name": "stdout",
     "output_type": "stream",
     "text": [
      "[1.0, 5, 10, 50]\n",
      "[1.0, 5, 10, 50]\n",
      "66.0\n"
     ]
    }
   ],
   "source": [
    "print([i for i in numerals.values()])\n",
    "print(list(numerals.values()))\n",
    "print(sum(numerals.values()))"
   ]
  },
  {
   "cell_type": "code",
   "execution_count": 41,
   "id": "591fdee6",
   "metadata": {},
   "outputs": [
    {
     "name": "stdout",
     "output_type": "stream",
     "text": [
      "dict_keys(['I', 'V', 'X', 'L'])\n"
     ]
    }
   ],
   "source": [
    "print(numerals.keys())"
   ]
  },
  {
   "cell_type": "code",
   "execution_count": 42,
   "id": "b9cc8c03",
   "metadata": {},
   "outputs": [
    {
     "name": "stdout",
     "output_type": "stream",
     "text": [
      "['I', 'V', 'X', 'L']\n",
      "['I', 'V', 'X', 'L']\n"
     ]
    }
   ],
   "source": [
    "print([i for i in numerals.keys()])\n",
    "print(list(numerals.keys()))"
   ]
  },
  {
   "cell_type": "code",
   "execution_count": 43,
   "id": "76591b03",
   "metadata": {},
   "outputs": [
    {
     "name": "stdout",
     "output_type": "stream",
     "text": [
      "dict_items([('I', 1.0), ('V', 5), ('X', 10), ('L', 50)])\n"
     ]
    }
   ],
   "source": [
    "print(numerals.items())"
   ]
  },
  {
   "cell_type": "code",
   "execution_count": 44,
   "id": "131a3ed8",
   "metadata": {},
   "outputs": [
    {
     "name": "stdout",
     "output_type": "stream",
     "text": [
      "[('I', 1.0), ('V', 5), ('X', 10), ('L', 50)]\n",
      "[('I', 1.0), ('V', 5), ('X', 10), ('L', 50)]\n"
     ]
    }
   ],
   "source": [
    "print([i for i in numerals.items()])\n",
    "print(list(numerals.items()))"
   ]
  },
  {
   "cell_type": "code",
   "execution_count": 45,
   "id": "b98dc00e",
   "metadata": {},
   "outputs": [
    {
     "name": "stdout",
     "output_type": "stream",
     "text": [
      "{'I': 1.0, 'V': 5, 'X': 10, 'L': 50}\n",
      "{10: 20, 30: 40, 50: 60}\n"
     ]
    }
   ],
   "source": [
    "print(dict(list(numerals.items())))\n",
    "print(dict([(10,20),([30,40]),(50,60)]))"
   ]
  },
  {
   "cell_type": "code",
   "execution_count": 46,
   "id": "ee7f417c",
   "metadata": {},
   "outputs": [
    {
     "name": "stdout",
     "output_type": "stream",
     "text": [
      "0\n",
      "1.0\n"
     ]
    }
   ],
   "source": [
    "print(numerals.get('A',0))\n",
    "print(numerals.get('I',0))"
   ]
  },
  {
   "cell_type": "code",
   "execution_count": 47,
   "id": "638498c3",
   "metadata": {},
   "outputs": [
    {
     "data": {
      "text/plain": [
       "{1.0: 1.0, 5: 25, 10: 100, 50: 2500}"
      ]
     },
     "execution_count": 47,
     "metadata": {},
     "output_type": "execute_result"
    }
   ],
   "source": [
    "# 字典推导式\n",
    "{x:x**2 for x in numerals.values()}"
   ]
  },
  {
   "cell_type": "code",
   "execution_count": 48,
   "id": "619fadd4",
   "metadata": {},
   "outputs": [],
   "source": [
    "#======2.4.4 局部状态==================================================\n",
    "def make_withdraw(balance):\n",
    "    '在只有初始余额balance的情况下,make_withdraw函数返回withdraw函数'\n",
    "    def withdraw(amount):\n",
    "        'withdraw函数返回从初始余额balance中提取了amount后,余额还有多少'\n",
    "        nonlocal balance  # 非局部声明语句.使得在'当前帧withdraw'中,对'不在当前帧中定义的balance'的赋值可以使balance绑定的值改变\n",
    "        if balance < amount:\n",
    "            return '余额不足'\n",
    "        balance = balance - amount # nonlocal后,对balance赋值,可以改变balance的绑定\n",
    "        return balance\n",
    "    return withdraw"
   ]
  },
  {
   "cell_type": "code",
   "execution_count": 49,
   "id": "533dfb62",
   "metadata": {},
   "outputs": [
    {
     "data": {
      "text/plain": [
       "function"
      ]
     },
     "execution_count": 49,
     "metadata": {},
     "output_type": "execute_result"
    }
   ],
   "source": [
    "wd = make_withdraw(100)\n",
    "type(wd)"
   ]
  },
  {
   "cell_type": "code",
   "execution_count": null,
   "id": "6d0a04a3",
   "metadata": {},
   "outputs": [
    {
     "name": "stdout",
     "output_type": "stream",
     "text": [
      "5\n",
      "5\n"
     ]
    }
   ],
   "source": [
    "wd1 = make_withdraw(20)\n",
    "wd2 = make_withdraw(10)\n",
    "print(wd1(15))   \n",
    "print(wd2(5))  # 此时wd1(15)和wd2(5)的值是一样的,但是是两个withdraw的两个不同的实例对象"
   ]
  },
  {
   "cell_type": "code",
   "execution_count": 50,
   "id": "117b4bd3",
   "metadata": {},
   "outputs": [
    {
     "name": "stdout",
     "output_type": "stream",
     "text": [
      "80\n",
      "50\n",
      "10\n",
      "余额不足\n"
     ]
    }
   ],
   "source": [
    "print(wd(20))\n",
    "print(wd(30))\n",
    "print(wd(40))\n",
    "print(wd(50))"
   ]
  },
  {
   "cell_type": "code",
   "execution_count": 51,
   "id": "ed8c1881",
   "metadata": {},
   "outputs": [
    {
     "name": "stdout",
     "output_type": "stream",
     "text": [
      "80\n",
      "70\n"
     ]
    }
   ],
   "source": [
    "def make_withdraw_test(balance): # 删去非局部声明后,在vscode中可以看到这里的balance的亮度下降,提示\"未存取'balance'\"\n",
    "    '在只有初始余额balance的情况下,make_withdraw函数返回withdraw函数'\n",
    "    def withdraw_test(amount):\n",
    "        'withdraw函数返回从初始余额balance中提取了amount后,余额还有多少'\n",
    "\n",
    "        if balance < amount:\n",
    "            return '余额不足'\n",
    "        balance = balance - amount \n",
    "        return balance\n",
    "    return withdraw_test\n",
    "\n",
    "print(make_withdraw(100)(20))\n",
    "print(make_withdraw(100)(30))"
   ]
  },
  {
   "cell_type": "code",
   "execution_count": null,
   "id": "6cab9595",
   "metadata": {},
   "outputs": [],
   "source": [
    "#==========2.4.7链表=================================\n",
    "empty = 'empty'\n",
    "# 构造链表\n",
    "# 首先判断链表\n",
    "def is_link(s):\n",
    "    return s == empty or (len(s)==2 or is_link(s[1]))\n",
    "# 构造链表\n",
    "def link(first, rest):\n",
    "    assert is_link(rest), 'rest 必须是一个链表'\n",
    "    return [first, rest]\n",
    "# 定义选择器\n",
    "def first(s):\n",
    "    assert is_link(s),'s必须是一个链表'\n",
    "    assert s!=empty, '空链表没有第一个元素'  # 容易拉下\n",
    "    return s[0]\n",
    "def rest(s):\n",
    "    assert is_link(s),'s必须是一个链表'\n",
    "    assert s!=empty, '空链表没有剩余元素'    # 容易拉下\n",
    "    return s[1]\n",
    "# 序列抽象的条件------长度和元素选择\n",
    "## 长度\n",
    "def len_link(s):\n",
    "    '''返回链表s的长度'''\n",
    "    assert is_link(s)\n",
    "    total = 0\n",
    "    while s!=empty:\n",
    "        s,total=rest(s),total+1\n",
    "    return total\n",
    "## 元素选择\n",
    "def getitem_link(s,i):    # getitem的含义是get item,表示用索引或键获取某个元素\n",
    "    '''返回链表s中的第i个元素'''\n",
    "    assert is_link(s)\n",
    "    while i>0:\n",
    "        s,i=rest(s),i-1\n",
    "    return first(s)\n",
    "## 长度---用递归实现\n",
    "def len_link_recursive(s):\n",
    "    if s==empty:\n",
    "        return 0\n",
    "    else:\n",
    "        return 1+len_link_recursive(rest(s))\n",
    "## 元素选择---用递归实现\n",
    "def getitem_link_recursive(s,i):\n",
    "    if i==0:\n",
    "        return first(s)\n",
    "    else:\n",
    "        return getitem_link_recursive(rest(s),i-1)\n",
    "\n",
    "# 序列操作------延长\\应用\\过滤\\连接\n",
    "def extend_link(s,t):\n",
    "    '''递归实现:将链表t以链表的格式延长链表s'''\n",
    "    assert is_link(s) and is_link(t)\n",
    "    if s == empty:\n",
    "        return t\n",
    "    else:\n",
    "        return link(first(s),extend_link(rest(s),t))\n",
    "\n",
    "def apply_to_all_link(f,s):\n",
    "    '''递归实现:链表s的所有元素(注意除empty外,empty只是为了完整链表结构,不算元素)应用函数f,即map的功能\n",
    "    实现方法与extend_link类似,使用递归直到s的empty终止,每次操作都对first(s)应用函数f'''\n",
    "    assert is_link(s)\n",
    "    if s == empty:\n",
    "        return empty\n",
    "    else:\n",
    "        return link(f(first(s)),apply_to_all_link(f,rest(s)))\n",
    "\n",
    "def keep_if_link(f,s):\n",
    "    '''递归实现:只过滤出链表s中满足函数f(函数返回True或False)的元素,以链表的形式输出,即filter的功能'''\n",
    "    assert is_link(s)\n",
    "    if s == empty:\n",
    "        return empty\n",
    "    else:\n",
    "        if f(first(s)) == False:                    \n",
    "            return keep_if_link(f,rest(s))   # 若s的第一个元素不满足f,则跳过\n",
    "        else:\n",
    "            return link(first(s),keep_if_link(f,rest(s)))\n",
    "\n",
    "def join_link(s,separator):\n",
    "    '''递归实现:将链表s中的元素,以separator为分隔符连接'''\n",
    "    assert is_link(s)\n",
    "    if s == empty:\n",
    "        return ''   # 到达递归终止位置时,返回空串\n",
    "    else:                  \n",
    "        if rest(s) == empty:      # 这里也可以用教材中的elif\n",
    "            return str(first(s))\n",
    "        else:\n",
    "            return str(first(s))+separator+join_link(rest(s),separator)"
   ]
  },
  {
   "cell_type": "code",
   "execution_count": null,
   "id": "7d0d48eb",
   "metadata": {},
   "outputs": [],
   "source": [
    "def mutable_link():\n",
    "    '''返回一个可变链表函数'''\n",
    "    contents = empty\n",
    "    def dispatch(message, value=None):   # dipatch(调度),message(消息)\n",
    "        nonlocal contents\n",
    "        if message=='len':               # 消息传递\n",
    "            return len_link(contents)\n",
    "        elif message=='getitem':\n",
    "            return getitem_link(contents, value)\n",
    "        elif message=='push_first':\n",
    "            contents = link(value, contents) # 不return,而是修改contents的状态,由于进行了nonlocal声明,可以改变父帧中定义的contents值\n",
    "        elif message=='pop_first':\n",
    "            f = first(contents)\n",
    "            contents = rest(contents)\n",
    "            return f\n",
    "        elif message=='str':\n",
    "            return join_link(contents, ', ')\n",
    "    return dispatch"
   ]
  },
  {
   "cell_type": "code",
   "execution_count": null,
   "id": "d7538f3a",
   "metadata": {},
   "outputs": [],
   "source": [
    "def to_mutable_link(source):\n",
    "    '''返回一个与原列表(source)相同内容的函数链表'''\n",
    "    s = mutable_link()\n",
    "    for element in reversed(source):\n",
    "        s('push_first', element)\n",
    "    return s"
   ]
  },
  {
   "cell_type": "code",
   "execution_count": 57,
   "id": "08420ada",
   "metadata": {},
   "outputs": [
    {
     "name": "stdout",
     "output_type": "stream",
     "text": [
      "['heart', 'diamond', 'spade', 'club']\n",
      "<class 'function'>\n",
      "heart, diamond, spade, club\n"
     ]
    }
   ],
   "source": [
    "print(suits)\n",
    "s = to_mutable_link(suits)\n",
    "print(type(s))\n",
    "print(s('str'))"
   ]
  },
  {
   "cell_type": "code",
   "execution_count": 58,
   "id": "82636558",
   "metadata": {},
   "outputs": [
    {
     "name": "stdout",
     "output_type": "stream",
     "text": [
      "heart\n",
      "diamond, spade, club\n"
     ]
    }
   ],
   "source": [
    "print(s('pop_first'))\n",
    "print(s('str'))"
   ]
  },
  {
   "cell_type": "code",
   "execution_count": null,
   "id": "1aa23310",
   "metadata": {},
   "outputs": [],
   "source": [
    "#==========2.4.7字典=========================================\n",
    "# 实现具有与字典类似行为的函数\n",
    "def dictionary():\n",
    "    '''返回一个字典的函数实现'''\n",
    "    record = []  # record类似于前面的balance和contents,是一个可以被改变,有状态的对象\n",
    "    def getitem(key):  # 返回键key对应的值value\n",
    "        matches = [r for r in record if r[0]==key]  # 搜索符合键为参数key的键值对\n",
    "        if len(matches) == 1:       # 根据字典的定义,这个键值对如果存在的话只能有一个\n",
    "            key, value = matches[0]\n",
    "            return value\n",
    "    def setitem(key,value):  # 在字典中添加键值对\n",
    "        nonlocal record\n",
    "        non_matches = [r for r in record if r[0]!=key]\n",
    "        record = non_matches + [[key,value]]   # 不需要return,进行赋值修改record\n",
    "    def dispatch(message, key=None, value=None):\n",
    "        if message=='getitem':\n",
    "            return getitem(key)\n",
    "        elif message=='setitem':\n",
    "            setitem(key,value)   # 这里不需要return,只要进行这个操作即可\n",
    "    return dispatch\n",
    "        "
   ]
  },
  {
   "cell_type": "code",
   "execution_count": null,
   "id": "438a1ee5",
   "metadata": {},
   "outputs": [
    {
     "name": "stdout",
     "output_type": "stream",
     "text": [
      "6\n",
      "10\n",
      "5\n"
     ]
    }
   ],
   "source": [
    "d = dictionary()\n",
    "d('setitem',3,6)\n",
    "print(d('getitem',3))\n",
    "\n",
    "d('setitem',5,10)\n",
    "print(d('getitem',5))\n",
    "\n",
    "d('setitem',3,5)\n",
    "print(d('getitem',3))"
   ]
  },
  {
   "cell_type": "code",
   "execution_count": null,
   "id": "b5f1825c",
   "metadata": {},
   "outputs": [
    {
     "name": "stdout",
     "output_type": "stream",
     "text": [
      "8\n"
     ]
    }
   ],
   "source": [
    "#=============2.4.8调度字典============================================================\n",
    "# 调度字典:用于调度的字典,根据字典一一对应的特点,键为消息,值为对应操作,实现基于字典的消息传递\n",
    "# 字典的闭包特点:字典作为外部函数的局部变量时,内部函数可以读取和修改字典中的内容.\n",
    "# 与前面的修改绑定不同,字典不需要nonlocal就可以修改字典的内容,而通过赋值重新绑定则需要nonlocal声明\n",
    "\n",
    "# 教材的例子\n",
    "def account(initial_balance):\n",
    "    def deposit(amount):\n",
    "        dispatch['balance'] += amount\n",
    "        return dispatch['balance']\n",
    "    def withdraw(amount):\n",
    "        if amount > dispatch['balance']:\n",
    "            return 'Insufficient funds'\n",
    "        dispatch['balance'] -= amount\n",
    "        return dispatch['balance']\n",
    "    dispatch = {'deposit':   deposit,\n",
    "                'withdraw':  withdraw,\n",
    "                'balance':   initial_balance}\n",
    "    return dispatch\n",
    "\n",
    "def withdraw(account, amount):\n",
    "    return account['withdraw'](amount)\n",
    "def deposit(account, amount):\n",
    "    return account['deposit'](amount)\n",
    "def check_balance(account):\n",
    "    return account['balance']\n",
    "\n",
    "a = account(20)\n",
    "deposit(a, 5)\n",
    "withdraw(a, 17)\n",
    "result = check_balance(a)\n",
    "print(result)  # 输出最终余额"
   ]
  },
  {
   "cell_type": "code",
   "execution_count": 95,
   "id": "30c8e1c3",
   "metadata": {},
   "outputs": [
    {
     "name": "stdout",
     "output_type": "stream",
     "text": [
      "3\n"
     ]
    }
   ],
   "source": [
    "# 测试字典闭包的特点\n",
    "def test1():\n",
    "    d = {'a':1,'b':2}\n",
    "    def inner():\n",
    "        d['b'] = 3\n",
    "        return d['b']\n",
    "    return inner\n",
    "print(test1()())\n"
   ]
  },
  {
   "cell_type": "code",
   "execution_count": null,
   "id": "c2ed2c8d",
   "metadata": {},
   "outputs": [
    {
     "name": "stdout",
     "output_type": "stream",
     "text": [
      "3\n"
     ]
    }
   ],
   "source": [
    "def test2():\n",
    "    d = {'a':1,'b':2}\n",
    "    def inner():\n",
    "        d = {'a':1,'b':3}\n",
    "        return d['b']\n",
    "    return inner\n",
    "print(test2()())\n",
    "# 虽然输出结果没报错,但是从高亮的提示来看,在第2行,提示未存取\"d\",发现了潜在的作用域问题,而添加nonlocal后则没有.因此赋值重新绑定的正确做法还是添加nonlocal声明."
   ]
  },
  {
   "cell_type": "code",
   "execution_count": 85,
   "id": "1f3a48a5",
   "metadata": {},
   "outputs": [
    {
     "name": "stdout",
     "output_type": "stream",
     "text": [
      "3\n"
     ]
    }
   ],
   "source": [
    "def test2():\n",
    "    d = {'a':1,'b':2}\n",
    "    def inner():\n",
    "        nonlocal d\n",
    "        d = {'a':1,'b':3}\n",
    "        return d['b']\n",
    "    return inner\n",
    "print(test2()())"
   ]
  },
  {
   "cell_type": "code",
   "execution_count": null,
   "id": "9d541ada",
   "metadata": {},
   "outputs": [],
   "source": [
    "#=========2.4.9约束传递====================================\n",
    "# Struggling..."
   ]
  }
 ],
 "metadata": {
  "kernelspec": {
   "display_name": "Python 3",
   "language": "python",
   "name": "python3"
  },
  "language_info": {
   "codemirror_mode": {
    "name": "ipython",
    "version": 3
   },
   "file_extension": ".py",
   "mimetype": "text/x-python",
   "name": "python",
   "nbconvert_exporter": "python",
   "pygments_lexer": "ipython3",
   "version": "3.12.2"
  }
 },
 "nbformat": 4,
 "nbformat_minor": 5
}
