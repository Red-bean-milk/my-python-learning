{
 "cells": [
  {
   "cell_type": "code",
   "execution_count": null,
   "id": "6ef3868c",
   "metadata": {},
   "outputs": [],
   "source": [
    "#=====2.4.1==============================================\n",
    "from datetime import date # date是一个类"
   ]
  },
  {
   "cell_type": "code",
   "execution_count": 3,
   "id": "f57e7289",
   "metadata": {},
   "outputs": [],
   "source": [
    "tues = date(2025,10,23)  # 创建一个date的实例对象"
   ]
  },
  {
   "cell_type": "code",
   "execution_count": 4,
   "id": "8cb82231",
   "metadata": {},
   "outputs": [
    {
     "name": "stdout",
     "output_type": "stream",
     "text": [
      "2025-10-23\n"
     ]
    }
   ],
   "source": [
    "print(tues)"
   ]
  },
  {
   "cell_type": "code",
   "execution_count": 5,
   "id": "946fd3bf",
   "metadata": {},
   "outputs": [
    {
     "name": "stdout",
     "output_type": "stream",
     "text": [
      "24 days, 0:00:00\n"
     ]
    }
   ],
   "source": [
    "print(date(2025,11,16)-tues)"
   ]
  },
  {
   "cell_type": "code",
   "execution_count": 8,
   "id": "37677d55",
   "metadata": {},
   "outputs": [
    {
     "data": {
      "text/plain": [
       "2025"
      ]
     },
     "execution_count": 8,
     "metadata": {},
     "output_type": "execute_result"
    }
   ],
   "source": [
    "tues.year   # 使用点语法：访问实例对象tues的属性year"
   ]
  },
  {
   "cell_type": "code",
   "execution_count": null,
   "id": "222ff677",
   "metadata": {},
   "outputs": [
    {
     "data": {
      "text/plain": [
       "'Thursday, October, 23'"
      ]
     },
     "execution_count": 10,
     "metadata": {},
     "output_type": "execute_result"
    }
   ],
   "source": [
    "tues.strftime('%A, %B, %d')  \n",
    "# 使用点语法：访问实例对象tues的属性strftime(),也叫做方法。\n",
    "# 方法也是属性，只是该属性的值是一个函数。通过给函数输入参数，再结合对象本身所携带的数据，输出结果"
   ]
  },
  {
   "cell_type": "code",
   "execution_count": 11,
   "id": "62561c61",
   "metadata": {},
   "outputs": [
    {
     "data": {
      "text/plain": [
       "True"
      ]
     },
     "execution_count": 11,
     "metadata": {},
     "output_type": "execute_result"
    }
   ],
   "source": [
    "# 数字、字符串、列表、区间等都是对象\n",
    "# 它们本身表示数据，也拥有行为\n",
    "'12345'.isnumeric()  # 判断字符串是否全是数字(阿拉伯数字，汉字...)"
   ]
  },
  {
   "cell_type": "code",
   "execution_count": 12,
   "id": "33eac1d1",
   "metadata": {},
   "outputs": [
    {
     "data": {
      "text/plain": [
       "False"
      ]
     },
     "execution_count": 12,
     "metadata": {},
     "output_type": "execute_result"
    }
   ],
   "source": [
    "'123abc'.isnumeric()"
   ]
  },
  {
   "cell_type": "code",
   "execution_count": 14,
   "id": "2e114a21",
   "metadata": {},
   "outputs": [
    {
     "data": {
      "text/plain": [
       "True"
      ]
     },
     "execution_count": 14,
     "metadata": {},
     "output_type": "execute_result"
    }
   ],
   "source": [
    "'一二三'.isnumeric()"
   ]
  },
  {
   "cell_type": "code",
   "execution_count": 13,
   "id": "9c1341d3",
   "metadata": {},
   "outputs": [
    {
     "data": {
      "text/plain": [
       "'ROBErt De nIrO'"
      ]
     },
     "execution_count": 13,
     "metadata": {},
     "output_type": "execute_result"
    }
   ],
   "source": [
    "'robeRT dE NiRo'.swapcase()  # 反转大小写"
   ]
  },
  {
   "cell_type": "code",
   "execution_count": 15,
   "id": "b53781d6",
   "metadata": {},
   "outputs": [
    {
     "data": {
      "text/plain": [
       "'EYES'"
      ]
     },
     "execution_count": 15,
     "metadata": {},
     "output_type": "execute_result"
    }
   ],
   "source": [
    "'eyes'.upper()"
   ]
  },
  {
   "cell_type": "code",
   "execution_count": 16,
   "id": "bc860d49",
   "metadata": {},
   "outputs": [
    {
     "data": {
      "text/plain": [
       "True"
      ]
     },
     "execution_count": 16,
     "metadata": {},
     "output_type": "execute_result"
    }
   ],
   "source": [
    "'eyes'.upper().endswith('YES')"
   ]
  },
  {
   "cell_type": "code",
   "execution_count": null,
   "id": "a16117c7",
   "metadata": {},
   "outputs": [],
   "source": [
    "#=========2.4.2 序列对象=================\n",
    "# 对象和元素值\n",
    "first = ['coin', 'string', 'myriad']\n",
    "suits = first    # suits和first指向同一个对象"
   ]
  },
  {
   "cell_type": "code",
   "execution_count": 19,
   "id": "1f3fa79c",
   "metadata": {},
   "outputs": [
    {
     "data": {
      "text/plain": [
       "'myriad'"
      ]
     },
     "execution_count": 19,
     "metadata": {},
     "output_type": "execute_result"
    }
   ],
   "source": [
    "suits.pop()"
   ]
  },
  {
   "cell_type": "code",
   "execution_count": 20,
   "id": "5feea065",
   "metadata": {},
   "outputs": [
    {
     "name": "stdout",
     "output_type": "stream",
     "text": [
      "['coin', 'string']\n",
      "['coin', 'string']\n"
     ]
    }
   ],
   "source": [
    "print(suits)\n",
    "print(first)"
   ]
  },
  {
   "cell_type": "code",
   "execution_count": 21,
   "id": "fdeddf87",
   "metadata": {},
   "outputs": [],
   "source": [
    "suits.remove('string')"
   ]
  },
  {
   "cell_type": "code",
   "execution_count": 22,
   "id": "938295a8",
   "metadata": {},
   "outputs": [
    {
     "name": "stdout",
     "output_type": "stream",
     "text": [
      "['coin']\n",
      "['coin']\n"
     ]
    }
   ],
   "source": [
    "print(suits)\n",
    "print(first)"
   ]
  },
  {
   "cell_type": "code",
   "execution_count": 23,
   "id": "567e50aa",
   "metadata": {},
   "outputs": [
    {
     "name": "stdout",
     "output_type": "stream",
     "text": [
      "['coin', 'cup']\n",
      "['coin', 'cup']\n"
     ]
    }
   ],
   "source": [
    "suits.append('cup')\n",
    "print(suits)\n",
    "print(first)"
   ]
  },
  {
   "cell_type": "code",
   "execution_count": 24,
   "id": "c3d06234",
   "metadata": {},
   "outputs": [
    {
     "name": "stdout",
     "output_type": "stream",
     "text": [
      "['coin', 'cup', 'sword', 'club']\n",
      "['coin', 'cup', 'sword', 'club']\n"
     ]
    }
   ],
   "source": [
    "suits.extend(['sword', 'club'])\n",
    "print(suits)\n",
    "print(first)"
   ]
  },
  {
   "cell_type": "code",
   "execution_count": 25,
   "id": "3010e781",
   "metadata": {},
   "outputs": [
    {
     "name": "stdout",
     "output_type": "stream",
     "text": [
      "['coin', 'cup', 'spade', 'club']\n",
      "['coin', 'cup', 'spade', 'club']\n"
     ]
    }
   ],
   "source": [
    "suits[2] = 'spade'\n",
    "print(suits)\n",
    "print(first)"
   ]
  },
  {
   "cell_type": "code",
   "execution_count": 26,
   "id": "f1d9ca55",
   "metadata": {},
   "outputs": [
    {
     "name": "stdout",
     "output_type": "stream",
     "text": [
      "['heart', 'diamond', 'spade', 'club']\n",
      "['heart', 'diamond', 'spade', 'club']\n"
     ]
    }
   ],
   "source": [
    "suits[0:2] = ['heart', 'diamond']\n",
    "print(suits)\n",
    "print(first)"
   ]
  },
  {
   "cell_type": "code",
   "execution_count": null,
   "id": "b1debf18",
   "metadata": {},
   "outputs": [
    {
     "data": {
      "text/plain": [
       "['heart', 'diamond', 'spade', 'club']"
      ]
     },
     "execution_count": 27,
     "metadata": {},
     "output_type": "execute_result"
    }
   ],
   "source": [
    "nest = list(suits)   # nest是suits的一个副本,他们指向的是值相同的不同对象\n",
    "nest"
   ]
  },
  {
   "cell_type": "code",
   "execution_count": null,
   "id": "54046428",
   "metadata": {},
   "outputs": [
    {
     "name": "stdout",
     "output_type": "stream",
     "text": [
      "[['heart', 'diamond', 'spade', 'club'], 'diamond', 'spade', 'club']\n",
      "['heart', 'diamond', 'spade', 'club']\n"
     ]
    }
   ],
   "source": [
    "nest[0] = suits    # nest[0]和suits指向同一个对象\n",
    "print(nest)\n",
    "print(suits)"
   ]
  },
  {
   "cell_type": "code",
   "execution_count": 31,
   "id": "c0ad6197",
   "metadata": {},
   "outputs": [
    {
     "name": "stdout",
     "output_type": "stream",
     "text": [
      "['heart', 'diamond', 'Joker', 'spade', 'club']\n",
      "[['heart', 'diamond', 'Joker', 'spade', 'club'], 'diamond', 'spade', 'club']\n"
     ]
    }
   ],
   "source": [
    "suits.insert(2,'Joker')\n",
    "print(suits)\n",
    "print(nest)"
   ]
  },
  {
   "cell_type": "code",
   "execution_count": 32,
   "id": "2106ddfd",
   "metadata": {},
   "outputs": [
    {
     "name": "stdout",
     "output_type": "stream",
     "text": [
      "[['heart', 'diamond', 'spade', 'club'], 'diamond', 'spade', 'club']\n",
      "['heart', 'diamond', 'spade', 'club']\n"
     ]
    }
   ],
   "source": [
    "nest[0].pop(2)\n",
    "print(nest)\n",
    "print(suits)"
   ]
  },
  {
   "cell_type": "code",
   "execution_count": 33,
   "id": "f90bd702",
   "metadata": {},
   "outputs": [
    {
     "name": "stdout",
     "output_type": "stream",
     "text": [
      "True\n",
      "True\n",
      "False\n",
      "True\n",
      "True\n"
     ]
    }
   ],
   "source": [
    "print(suits is nest[0])\n",
    "print(first is suits)\n",
    "\n",
    "print(suits is ['heart', 'diamond', 'spade', 'club'])\n",
    "print(suits == ['heart', 'diamond', 'spade', 'club'])\n",
    "\n",
    "print(first == suits)"
   ]
  },
  {
   "cell_type": "code",
   "execution_count": 34,
   "id": "4d021a15",
   "metadata": {},
   "outputs": [
    {
     "name": "stdout",
     "output_type": "stream",
     "text": [
      "['♡', '♢', '♤', '♧']\n"
     ]
    }
   ],
   "source": [
    "from unicodedata import lookup\n",
    "print([lookup('WHITE '+ s.upper() + ' SUIT') for s in suits])"
   ]
  },
  {
   "cell_type": "code",
   "execution_count": 39,
   "id": "0af306e7",
   "metadata": {},
   "outputs": [
    {
     "name": "stdout",
     "output_type": "stream",
     "text": [
      "1 5\n"
     ]
    },
    {
     "data": {
      "text/plain": [
       "(1, 5)"
      ]
     },
     "execution_count": 39,
     "metadata": {},
     "output_type": "execute_result"
    }
   ],
   "source": [
    "# 元组\n",
    "print(1,2+3)\n",
    "1,2+3"
   ]
  },
  {
   "cell_type": "code",
   "execution_count": 40,
   "id": "ebc32375",
   "metadata": {},
   "outputs": [
    {
     "data": {
      "text/plain": [
       "tuple"
      ]
     },
     "execution_count": 40,
     "metadata": {},
     "output_type": "execute_result"
    }
   ],
   "source": [
    "type((10,20))"
   ]
  },
  {
   "cell_type": "code",
   "execution_count": 41,
   "id": "e4bacbdc",
   "metadata": {},
   "outputs": [
    {
     "data": {
      "text/plain": [
       "()"
      ]
     },
     "execution_count": 41,
     "metadata": {},
     "output_type": "execute_result"
    }
   ],
   "source": [
    "()"
   ]
  },
  {
   "cell_type": "code",
   "execution_count": 42,
   "id": "6e1b3719",
   "metadata": {},
   "outputs": [
    {
     "data": {
      "text/plain": [
       "(10,)"
      ]
     },
     "execution_count": 42,
     "metadata": {},
     "output_type": "execute_result"
    }
   ],
   "source": [
    "(10,)"
   ]
  },
  {
   "cell_type": "code",
   "execution_count": 48,
   "id": "5ccb23f1",
   "metadata": {},
   "outputs": [
    {
     "name": "stdout",
     "output_type": "stream",
     "text": [
      "<class 'int'>\n",
      "<class 'tuple'>\n",
      "<class 'tuple'>\n"
     ]
    }
   ],
   "source": [
    "print(type( (10) ))\n",
    "print(type( (10,) ))\n",
    "print(type( () ))"
   ]
  },
  {
   "cell_type": "code",
   "execution_count": 49,
   "id": "e1c4e3ec",
   "metadata": {},
   "outputs": [
    {
     "name": "stdout",
     "output_type": "stream",
     "text": [
      "8\n",
      "left\n",
      "2\n",
      "5\n"
     ]
    }
   ],
   "source": [
    "code = (\"up\", \"up\", \"down\", \"down\") + (\"left\", \"right\") * 2\n",
    "print(len(code))\n",
    "print(code[4])\n",
    "print(code.count('up'))\n",
    "print(code.index('right'))"
   ]
  },
  {
   "cell_type": "code",
   "execution_count": 50,
   "id": "8c104bd6",
   "metadata": {},
   "outputs": [
    {
     "name": "stdout",
     "output_type": "stream",
     "text": [
      "(10, 20, [30, 40])\n",
      "<class 'tuple'>\n",
      "(10, 20, [25, 40])\n"
     ]
    }
   ],
   "source": [
    "a = (10,20,[30,40])\n",
    "print(a)\n",
    "print(type(a))\n",
    "a[2][0] = 25\n",
    "print(a)"
   ]
  },
  {
   "cell_type": "code",
   "execution_count": 85,
   "id": "54570ebc",
   "metadata": {},
   "outputs": [],
   "source": [
    "# a[0] = 15\n",
    "# ---------------------------------------------------------------------------\n",
    "# TypeError                                 Traceback (most recent call last)\n",
    "# Cell In[51], line 1\n",
    "# ----> 1 a[0] = 15\n",
    "\n",
    "# TypeError: 'tuple' object does not support item assignment"
   ]
  },
  {
   "cell_type": "code",
   "execution_count": 54,
   "id": "fb17e995",
   "metadata": {},
   "outputs": [
    {
     "data": {
      "text/plain": [
       "5"
      ]
     },
     "execution_count": 54,
     "metadata": {},
     "output_type": "execute_result"
    }
   ],
   "source": [
    "# 字典\n",
    "numerals = {'I': 1.0, 'V': 5, 'X': 10}\n",
    "numerals['V']"
   ]
  },
  {
   "cell_type": "code",
   "execution_count": 55,
   "id": "8307f72d",
   "metadata": {},
   "outputs": [
    {
     "name": "stdout",
     "output_type": "stream",
     "text": [
      "{'I': 1.0, 'V': 5, 'X': 10, 'L': 50}\n"
     ]
    }
   ],
   "source": [
    "numerals['L'] = 50\n",
    "print(numerals)"
   ]
  },
  {
   "cell_type": "code",
   "execution_count": 59,
   "id": "9e901534",
   "metadata": {},
   "outputs": [
    {
     "data": {
      "text/plain": [
       "dict_values([1.0, 5, 10, 50])"
      ]
     },
     "execution_count": 59,
     "metadata": {},
     "output_type": "execute_result"
    }
   ],
   "source": [
    "numerals.values()"
   ]
  },
  {
   "cell_type": "code",
   "execution_count": 60,
   "id": "1e3e1b4b",
   "metadata": {},
   "outputs": [
    {
     "name": "stdout",
     "output_type": "stream",
     "text": [
      "dict_values([1.0, 5, 10, 50])\n"
     ]
    }
   ],
   "source": [
    "print(numerals.values())"
   ]
  },
  {
   "cell_type": "code",
   "execution_count": 64,
   "id": "8dfb2005",
   "metadata": {},
   "outputs": [
    {
     "name": "stdout",
     "output_type": "stream",
     "text": [
      "[1.0, 5, 10, 50]\n",
      "[1.0, 5, 10, 50]\n",
      "66.0\n"
     ]
    }
   ],
   "source": [
    "print([i for i in numerals.values()])\n",
    "print(list(numerals.values()))\n",
    "print(sum(numerals.values()))"
   ]
  },
  {
   "cell_type": "code",
   "execution_count": 65,
   "id": "591fdee6",
   "metadata": {},
   "outputs": [
    {
     "name": "stdout",
     "output_type": "stream",
     "text": [
      "dict_keys(['I', 'V', 'X', 'L'])\n"
     ]
    }
   ],
   "source": [
    "print(numerals.keys())"
   ]
  },
  {
   "cell_type": "code",
   "execution_count": 66,
   "id": "b9cc8c03",
   "metadata": {},
   "outputs": [
    {
     "name": "stdout",
     "output_type": "stream",
     "text": [
      "['I', 'V', 'X', 'L']\n",
      "['I', 'V', 'X', 'L']\n"
     ]
    }
   ],
   "source": [
    "print([i for i in numerals.keys()])\n",
    "print(list(numerals.keys()))"
   ]
  },
  {
   "cell_type": "code",
   "execution_count": 67,
   "id": "76591b03",
   "metadata": {},
   "outputs": [
    {
     "name": "stdout",
     "output_type": "stream",
     "text": [
      "dict_items([('I', 1.0), ('V', 5), ('X', 10), ('L', 50)])\n"
     ]
    }
   ],
   "source": [
    "print(numerals.items())"
   ]
  },
  {
   "cell_type": "code",
   "execution_count": 68,
   "id": "131a3ed8",
   "metadata": {},
   "outputs": [
    {
     "name": "stdout",
     "output_type": "stream",
     "text": [
      "[('I', 1.0), ('V', 5), ('X', 10), ('L', 50)]\n",
      "[('I', 1.0), ('V', 5), ('X', 10), ('L', 50)]\n"
     ]
    }
   ],
   "source": [
    "print([i for i in numerals.items()])\n",
    "print(list(numerals.items()))"
   ]
  },
  {
   "cell_type": "code",
   "execution_count": 69,
   "id": "b98dc00e",
   "metadata": {},
   "outputs": [
    {
     "name": "stdout",
     "output_type": "stream",
     "text": [
      "{'I': 1.0, 'V': 5, 'X': 10, 'L': 50}\n",
      "{10: 20, 30: 40, 50: 60}\n"
     ]
    }
   ],
   "source": [
    "print(dict(list(numerals.items())))\n",
    "print(dict([(10,20),([30,40]),(50,60)]))"
   ]
  },
  {
   "cell_type": "code",
   "execution_count": 71,
   "id": "ee7f417c",
   "metadata": {},
   "outputs": [
    {
     "name": "stdout",
     "output_type": "stream",
     "text": [
      "0\n",
      "1.0\n"
     ]
    }
   ],
   "source": [
    "print(numerals.get('A',0))\n",
    "print(numerals.get('I',0))"
   ]
  },
  {
   "cell_type": "code",
   "execution_count": 72,
   "id": "638498c3",
   "metadata": {},
   "outputs": [
    {
     "data": {
      "text/plain": [
       "{1.0: 1.0, 5: 25, 10: 100, 50: 2500}"
      ]
     },
     "execution_count": 72,
     "metadata": {},
     "output_type": "execute_result"
    }
   ],
   "source": [
    "# 字典推导式\n",
    "{x:x**2 for x in numerals.values()}"
   ]
  },
  {
   "cell_type": "code",
   "execution_count": null,
   "id": "619fadd4",
   "metadata": {},
   "outputs": [],
   "source": [
    "#======2.4.4 局部状态==================================================\n",
    "def make_withdraw(balance):\n",
    "    '在只有初始余额balance的情况下,make_withdraw函数返回withdraw函数'\n",
    "    def withdraw(amount):\n",
    "        'withdraw函数返回从初始余额balance中提取了amount后,余额还有多少'\n",
    "        nonlocal balance  # 非局部声明语句.使得在'当前帧withdraw'中,对'不在当前帧中定义的balance'的赋值可以使balance绑定的值改变\n",
    "        if balance < amount:\n",
    "            return '余额不足'\n",
    "        balance = balance - amount # nonlocal后,对balance赋值,可以改变balance的绑定\n",
    "        return balance\n",
    "    return withdraw"
   ]
  },
  {
   "cell_type": "code",
   "execution_count": 80,
   "id": "533dfb62",
   "metadata": {},
   "outputs": [
    {
     "data": {
      "text/plain": [
       "function"
      ]
     },
     "execution_count": 80,
     "metadata": {},
     "output_type": "execute_result"
    }
   ],
   "source": [
    "wd = make_withdraw(100)\n",
    "type(wd)"
   ]
  },
  {
   "cell_type": "code",
   "execution_count": 81,
   "id": "117b4bd3",
   "metadata": {},
   "outputs": [
    {
     "name": "stdout",
     "output_type": "stream",
     "text": [
      "80\n",
      "50\n",
      "10\n",
      "余额不足\n"
     ]
    }
   ],
   "source": [
    "print(wd(20))\n",
    "print(wd(30))\n",
    "print(wd(40))\n",
    "print(wd(50))"
   ]
  },
  {
   "cell_type": "code",
   "execution_count": 84,
   "id": "ed8c1881",
   "metadata": {},
   "outputs": [
    {
     "name": "stdout",
     "output_type": "stream",
     "text": [
      "80\n",
      "70\n"
     ]
    }
   ],
   "source": [
    "def make_withdraw_test(balance): # 删去非局部声明后,在vscode中可以看到这里的balance的亮度下降,提示\"未存取'balance'\"\n",
    "    '在只有初始余额balance的情况下,make_withdraw函数返回withdraw函数'\n",
    "    def withdraw_test(amount):\n",
    "        'withdraw函数返回从初始余额balance中提取了amount后,余额还有多少'\n",
    "\n",
    "        if balance < amount:\n",
    "            return '余额不足'\n",
    "        balance = balance - amount \n",
    "        return balance\n",
    "    return withdraw_test\n",
    "\n",
    "print(make_withdraw(100)(20))\n",
    "print(make_withdraw(100)(30))"
   ]
  },
  {
   "cell_type": "code",
   "execution_count": null,
   "id": "6cab9595",
   "metadata": {},
   "outputs": [],
   "source": []
  }
 ],
 "metadata": {
  "kernelspec": {
   "display_name": "Python 3",
   "language": "python",
   "name": "python3"
  },
  "language_info": {
   "codemirror_mode": {
    "name": "ipython",
    "version": 3
   },
   "file_extension": ".py",
   "mimetype": "text/x-python",
   "name": "python",
   "nbconvert_exporter": "python",
   "pygments_lexer": "ipython3",
   "version": "3.12.2"
  }
 },
 "nbformat": 4,
 "nbformat_minor": 5
}
