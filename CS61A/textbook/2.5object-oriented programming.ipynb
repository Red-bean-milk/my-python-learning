{
 "cells": [
  {
   "cell_type": "code",
   "execution_count": 4,
   "id": "43bfc9d4",
   "metadata": {},
   "outputs": [],
   "source": [
    "#=====2.5.1对象和类===================\n",
    "\n",
    "\n",
    "# # 预期实现对象和类\n",
    "# # 类-Account\n",
    "# a = Account('Kirk')  # 创建Account类中的一个实例对象\n",
    "\n",
    "# # 实例属性\n",
    "# a.holder   # 返回实例对象a的实例属性-账户名\n",
    "\n",
    "# a.balance  # 返回实例对象a的实例属性-余额\n",
    "\n",
    "\n",
    "# # 方法:对对象进行操作或执行特定于对象的计算的函数\n",
    "# # 方法的返回值和副作用可以依赖于并更改对象的其他属性。\n",
    "# a.deposit(15)   # deposit()方法传入一个参数,修改余额balance属性的值,并返回余额\n",
    "\n",
    "# a.withdraw(10)  # 提取10(balance减10),返回扣除后的金额\n",
    "# a.withdraw(10)  # 如果余额不足以提取这么多,返回'Insufficient funds'"
   ]
  },
  {
   "cell_type": "code",
   "execution_count": null,
   "id": "4323e3cd",
   "metadata": {},
   "outputs": [],
   "source": [
    "#===2.5.2类的定义===================\n",
    "# class语句:创建自定义类,定义类名\n",
    "# 类体:包含多条子语句,定义类属性\n",
    "\n",
    "# 类的构造函数\n",
    "class Account:\n",
    "    def __init__(self,account_holder):   # 初始化对象的方法:__init__().两个形式参数:self绑定到新创建的Account对象,account_holder绑定到调用类进行实例化时传递给类的参数\n",
    "        self.balance = 0\n",
    "        self.holder = account_holder   # 初始化对象时定义属性\n",
    "    # 定义方法\n",
    "    def deposit(self,amount):   # amount是使用方法时传递给方法的参数\n",
    "        self.balance = self.balance + amount\n",
    "        return self.balance   # 需要return别忘了\n",
    "    def withdraw(self,amount):\n",
    "        if self.balance < amount:\n",
    "            return 'Insufficient funds'\n",
    "        self.balance = self.balance - amount  # 这句赋值必须要有,否则无法对实例的balance属性进行修改,因此不能省略这句话直接return self.balance - amount\n",
    "        return self.balance"
   ]
  },
  {
   "cell_type": "code",
   "execution_count": 28,
   "id": "21f092ed",
   "metadata": {},
   "outputs": [
    {
     "name": "stdout",
     "output_type": "stream",
     "text": [
      "0\n",
      "Kirk\n"
     ]
    }
   ],
   "source": [
    "a = Account('Kirk')\n",
    "print(a.balance)\n",
    "print(a.holder)"
   ]
  },
  {
   "cell_type": "code",
   "execution_count": 29,
   "id": "dfeea960",
   "metadata": {},
   "outputs": [
    {
     "name": "stdout",
     "output_type": "stream",
     "text": [
      "200\n",
      "[0, 200]\n"
     ]
    }
   ],
   "source": [
    "b = Account('Spock')\n",
    "b.balance = 200   # 修改实例对象b的balance属性\n",
    "print(b.balance)\n",
    "# 身份标识:每一个账号实例都有自己的余额属性，它的值是独立的。\n",
    "print([acc.balance for acc in (a,b)])"
   ]
  },
  {
   "cell_type": "code",
   "execution_count": 30,
   "id": "86051349",
   "metadata": {},
   "outputs": [
    {
     "name": "stdout",
     "output_type": "stream",
     "text": [
      "True\n",
      "True\n",
      "False\n",
      "False\n"
     ]
    }
   ],
   "source": [
    "# 每一个实例对象都具有唯一的身份标识.使用 is 和 is not 运算符可以比较对象的标识\n",
    "print(a is a)\n",
    "print(a is not b)\n",
    "print(a is b)        # 类Account下的实例a和实例b是两个不同的对象\n",
    "print(a is not a)"
   ]
  },
  {
   "cell_type": "code",
   "execution_count": 31,
   "id": "3b586862",
   "metadata": {},
   "outputs": [
    {
     "name": "stdout",
     "output_type": "stream",
     "text": [
      "True\n"
     ]
    }
   ],
   "source": [
    "c = a\n",
    "print(c is a)"
   ]
  },
  {
   "cell_type": "code",
   "execution_count": 32,
   "id": "8c588eaf",
   "metadata": {},
   "outputs": [
    {
     "data": {
      "text/plain": [
       "100"
      ]
     },
     "execution_count": 32,
     "metadata": {},
     "output_type": "execute_result"
    }
   ],
   "source": [
    "b.withdraw(100)"
   ]
  },
  {
   "cell_type": "code",
   "execution_count": 33,
   "id": "feb7f625",
   "metadata": {},
   "outputs": [
    {
     "data": {
      "text/plain": [
       "70"
      ]
     },
     "execution_count": 33,
     "metadata": {},
     "output_type": "execute_result"
    }
   ],
   "source": [
    "b.withdraw(30)"
   ]
  },
  {
   "cell_type": "code",
   "execution_count": 52,
   "id": "766bb49b",
   "metadata": {},
   "outputs": [
    {
     "name": "stdout",
     "output_type": "stream",
     "text": [
      "Spock\n",
      "Spock\n"
     ]
    }
   ],
   "source": [
    "#========2.5.3消息传递和点表达式=============\n",
    "spock_account = Account('Spock')\n",
    "print(spock_account.holder)\n",
    "print(b.holder)"
   ]
  },
  {
   "cell_type": "code",
   "execution_count": 53,
   "id": "dd23a263",
   "metadata": {},
   "outputs": [
    {
     "data": {
      "text/plain": [
       "100"
      ]
     },
     "execution_count": 53,
     "metadata": {},
     "output_type": "execute_result"
    }
   ],
   "source": [
    "spock_account.balance = 100\n",
    "spock_account.balance   # 点表达式:  对象名.属性名  <expression>.<name>"
   ]
  },
  {
   "cell_type": "code",
   "execution_count": 54,
   "id": "c3ada97d",
   "metadata": {},
   "outputs": [
    {
     "data": {
      "text/plain": [
       "100"
      ]
     },
     "execution_count": 54,
     "metadata": {},
     "output_type": "execute_result"
    }
   ],
   "source": [
    "getattr(spock_account,'balance') # getattr表示get attribute,获取属性对应的值\n",
    "# 结构很像调度字典. getattr字典,'balance'是消息,spock_account是传入的参数"
   ]
  },
  {
   "cell_type": "code",
   "execution_count": 55,
   "id": "439899d5",
   "metadata": {},
   "outputs": [
    {
     "data": {
      "text/plain": [
       "True"
      ]
     },
     "execution_count": 55,
     "metadata": {},
     "output_type": "execute_result"
    }
   ],
   "source": [
    "# 使用 hasattr 来测试对象是否具有指定的属性(记住前面章节讲过的,方法也是属性)\n",
    "hasattr(spock_account,'deposit')\n",
    "# 对象的属性包括其所有实例属性，以及其类中定义的所有属性（包括方法）。方法是需要特殊处理的类的属性。"
   ]
  },
  {
   "cell_type": "code",
   "execution_count": 56,
   "id": "cd727f97",
   "metadata": {},
   "outputs": [
    {
     "data": {
      "text/plain": [
       "200"
      ]
     },
     "execution_count": 56,
     "metadata": {},
     "output_type": "execute_result"
    }
   ],
   "source": [
    "# 用点表达式在对象上使用方法的时候,对象名的作用有两个:一,告诉 点 后面的方法\"现在你是类中的局部名称,而不是全局中的名称\"\n",
    "# 二,将方法的第一个形式参数self和对应的对象名绑定\n",
    "spock_account.deposit(100) # 给对象调用方法的时候,方法的第一个参数self自动绑定到这个对象"
   ]
  },
  {
   "cell_type": "code",
   "execution_count": 57,
   "id": "ab44f00c",
   "metadata": {},
   "outputs": [
    {
     "data": {
      "text/plain": [
       "function"
      ]
     },
     "execution_count": 57,
     "metadata": {},
     "output_type": "execute_result"
    }
   ],
   "source": [
    "# 类的属性\n",
    "type(Account.deposit)"
   ]
  },
  {
   "cell_type": "code",
   "execution_count": 58,
   "id": "77ab7755",
   "metadata": {},
   "outputs": [
    {
     "name": "stdout",
     "output_type": "stream",
     "text": [
      "<class 'method'>\n",
      "<class 'int'>\n",
      "<class 'str'>\n"
     ]
    }
   ],
   "source": [
    "# 实例的属性\n",
    "print(type(spock_account.deposit))\n",
    "print(type(spock_account.balance))\n",
    "print(type(spock_account.holder))"
   ]
  },
  {
   "cell_type": "code",
   "execution_count": null,
   "id": "d3e84aba",
   "metadata": {},
   "outputs": [
    {
     "name": "stdout",
     "output_type": "stream",
     "text": [
      "1201\n",
      "2201\n"
     ]
    }
   ],
   "source": [
    "# 调用函数的两种方法(不一样的是所接受的参数的个数)\n",
    "# 1.既然Account.deposit是函数,我们可以使用函数来调用deposit\n",
    "print(Account.deposit(spock_account,1001))\n",
    "\n",
    "# 2.使用点表达式\n",
    "print(spock_account.deposit(1000))"
   ]
  },
  {
   "cell_type": "code",
   "execution_count": null,
   "id": "5e3c2c79",
   "metadata": {},
   "outputs": [
    {
     "name": "stdout",
     "output_type": "stream",
     "text": [
      "<class 'function'>\n",
      "<class 'method'>\n"
     ]
    }
   ],
   "source": [
    "# getattr与点表达式等效\n",
    "print(type(getattr(Account,'deposit')))\n",
    "print(type(getattr(spock_account,'deposit')))"
   ]
  },
  {
   "cell_type": "code",
   "execution_count": 63,
   "id": "75010887",
   "metadata": {},
   "outputs": [],
   "source": [
    "# 命名约定:\n",
    "# 类名通常使用 CapWords 约定（也称为 CamelCase，因为名称中间的大写字母看起来像驼峰）编写。\n",
    "# 方法名称遵循使用下划线分隔的小写单词命名函数的标准约定。\n",
    "\n",
    "# 在某些情况下，有一些实例变量和方法与对象的维护和一致性相关，我们不希望对象的用户看到或使用。\n",
    "# 它们不是类定义的抽象的一部分，而是实现的一部分。\n",
    "# Python 的约定规定，如果属性名称以下划线开头，则只能在类本身的方法中访问它，而不是用户访问。"
   ]
  },
  {
   "cell_type": "code",
   "execution_count": null,
   "id": "3cfac8a1",
   "metadata": {},
   "outputs": [],
   "source": [
    "#===2.5.4类属性================\n"
   ]
  }
 ],
 "metadata": {
  "kernelspec": {
   "display_name": "Python 3",
   "language": "python",
   "name": "python3"
  },
  "language_info": {
   "codemirror_mode": {
    "name": "ipython",
    "version": 3
   },
   "file_extension": ".py",
   "mimetype": "text/x-python",
   "name": "python",
   "nbconvert_exporter": "python",
   "pygments_lexer": "ipython3",
   "version": "3.12.2"
  }
 },
 "nbformat": 4,
 "nbformat_minor": 5
}
