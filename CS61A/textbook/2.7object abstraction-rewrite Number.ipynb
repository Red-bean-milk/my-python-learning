{
 "cells": [
  {
   "cell_type": "code",
   "execution_count": 11,
   "id": "a865988f",
   "metadata": {},
   "outputs": [],
   "source": [
    "# 结合复数和有理数\n",
    "from math import sin, cos, pi\n",
    "def add_complex_and_rational(c,r):\n",
    "    return ComplexRI(c.real+r.numer/r.denom,c.imag)\n",
    "\n",
    "def mul_complex_and_rational(c,r):\n",
    "    r_magnitude,r_angle = r.numer/r.denom,0\n",
    "    if r_magnitude < 0:\n",
    "        r_magnitude,r_angle = -r.numer/r.denom,pi\n",
    "    return ComplexMA(c.magnitude * r_magnitude,c.angle+r_angle)\n",
    "\n",
    "def add_rational_and_complex(r,c):\n",
    "    return add_complex_and_rational(c,r)\n",
    "def mul_rational_and_complex(r,c):\n",
    "    return mul_complex_and_rational(c,r)\n",
    "\n",
    "class Number:\n",
    "    def __add__(self,other):\n",
    "        if self.type_tag == other.type_tag:\n",
    "            return self.add(other)\n",
    "        elif (self.type_tag,other.type_tag) in self.adders:\n",
    "            return self.cross_apply(other,self.adders)\n",
    "        \n",
    "    def __mul__(self,other):\n",
    "        if self.type_tag == other.type_tag:\n",
    "            return self.mul(other)\n",
    "        elif (self.type_tag,other.type_tag) in self.multipliers:\n",
    "            return self.cross_apply(other,self.multipliers)\n",
    "\n",
    "    def cross_apply(self,other,cross_fns):\n",
    "        cross_fn = cross_fns[(self.type_tag,other.type_tag)]\n",
    "        return cross_fn(self,other)\n",
    "    \n",
    "    adders = {('com','rat'):add_complex_and_rational,\n",
    "              ('rat','com'):add_rational_and_complex}\n",
    "    \n",
    "    multipliers = {('com','rat'):mul_complex_and_rational,\n",
    "                   ('rat','com'):mul_rational_and_complex}\n",
    "    \n",
    "class Complex(Number):\n",
    "    def add(self,other):\n",
    "        return ComplexRI(self.real+other.real,self.imag+other.imag)\n",
    "    def mul(self,other):\n",
    "        magnitude = self.magnitude * other.magnitude\n",
    "        return ComplexMA(magnitude, self.angle+other.angle)\n",
    "\n",
    "\n",
    "from math import atan2\n",
    "class ComplexRI(Complex):\n",
    "    def __init__(self,real,imag):\n",
    "        self.real = real\n",
    "        self.imag = imag\n",
    "    \n",
    "    @property    # 让下面定义的方法可以用和调用属性值一样语法调用(即不需要使用括号)\n",
    "    def magnitude(self):\n",
    "        return (self.real ** 2 + self.imag ** 2)**0.5\n",
    "    @property\n",
    "    def angle(self):\n",
    "        return atan2(self.imag,self.real)\n",
    "    def __repr__(self):\n",
    "        return 'ComplexRI({0:g},{1:g})'.format(self.real,self.imag)\n",
    "\n",
    "\n",
    "class ComplexMA(Complex):\n",
    "    def __init__(self,magnitude,angle):\n",
    "        self.magnitude = magnitude\n",
    "        self.angle = angle\n",
    "    \n",
    "    @property\n",
    "    def real(self):\n",
    "        return self.magnitude * cos(self.angle)\n",
    "    @property\n",
    "    def imag(self):\n",
    "        return self.magnitude * sin(self.angle)\n",
    "    def __repr__(self):\n",
    "        return 'ComplexMA({0:g},{1:g}*pi)'.format(self.magnitude,self.angle/pi)\n",
    "\n",
    "from math import gcd\n",
    "class Rational(Number):\n",
    "    def __init__(self,numer,denom):\n",
    "        g = gcd(numer,denom)\n",
    "        self.numer = numer // g\n",
    "        self.denom = denom // g\n",
    "    def __repr__(self):\n",
    "        return 'Rational({0},{1})'.format(self.numer,self.denom)\n",
    "    # def __str__(self):     # print的时候,如果没有定义__str__方法,则调用__repr__方法\n",
    "    #     # 友好的显示   \n",
    "    #     return '{}/{}'.format(self.numer, self.denom)\n",
    "    def add(self,other):\n",
    "        nx,dx = self.numer,self.denom\n",
    "        ny,dy = other.numer,other.denom\n",
    "        return Rational(nx*dy+ny*dx,dx*dy)\n",
    "    def mul(self,other):\n",
    "        numer = self.numer*other.numer\n",
    "        denom = self.denom*other.denom\n",
    "        return Rational(numer,denom)    \n",
    "    \n",
    "\n",
    "Rational.type_tag = 'rat'\n",
    "Complex.type_tag = 'com'\n",
    "\n"
   ]
  },
  {
   "cell_type": "code",
   "execution_count": 12,
   "id": "f437ed16",
   "metadata": {},
   "outputs": [
    {
     "data": {
      "text/plain": [
       "ComplexRI(3,0)"
      ]
     },
     "execution_count": 12,
     "metadata": {},
     "output_type": "execute_result"
    }
   ],
   "source": [
    "ComplexRI(1.5, 0) + Rational(3, 2)"
   ]
  },
  {
   "cell_type": "code",
   "execution_count": 13,
   "id": "dece9db3",
   "metadata": {},
   "outputs": [
    {
     "data": {
      "text/plain": [
       "ComplexMA(2,1.5*pi)"
      ]
     },
     "execution_count": 13,
     "metadata": {},
     "output_type": "execute_result"
    }
   ],
   "source": [
    "Rational(-1, 2) * ComplexMA(4, pi/2)"
   ]
  },
  {
   "cell_type": "code",
   "execution_count": null,
   "id": "2bb35da4",
   "metadata": {},
   "outputs": [],
   "source": [
    "# 我一开始自己写的Number类如下:\n",
    "# class Number:\n",
    "#     def __add__(self,other):\n",
    "#         if self.type_tag == other.type_tag:\n",
    "#             return self.add(other)\n",
    "#         elif (self.type_tag,other.type_tag) in self.adders:\n",
    "#             return self.adders[(self.type_tag,other.type_tag)](self,other)\n",
    "        \n",
    "#     def __mul__(self,other):\n",
    "#         if self.type_tag == other.type_tag:\n",
    "#             return self.mul(other)\n",
    "#         elif (self.type_tag,other.type_tag) in self.multipliers:\n",
    "#             return self.multipliers[(self.type_tag,other.type_tag)](self,other)\n",
    "\n",
    "#     adders = {('com','rat'):add_complex_and_rational,\n",
    "#               ('rat','com'):add_rational_and_complex}\n",
    "    \n",
    "#     multipliers = {('com','rat'):mul_complex_and_rational,\n",
    "#                    ('rat','com'):mul_rational_and_complex}\n",
    "# 虽然输出结果一致,但是可以看到,为了实现不同类型数据相加,我直接在__add__的返回中引入在adders中的查找对应的数据类型的机制,mul同理\n",
    "# 和教材的参考代码相比,参考代码查找并调用交叉类型的函数封装在cross_apply中,更容易扩展(比如增加减法,除法)\n",
    "# 并且更容易维护(如果要修改调用不同类型数据的函数,参考代码只需要在cross_apply上改,而我的代码需要对每个运算符都进行修改)\n"
   ]
  }
 ],
 "metadata": {
  "kernelspec": {
   "display_name": "Python 3",
   "language": "python",
   "name": "python3"
  },
  "language_info": {
   "codemirror_mode": {
    "name": "ipython",
    "version": 3
   },
   "file_extension": ".py",
   "mimetype": "text/x-python",
   "name": "python",
   "nbconvert_exporter": "python",
   "pygments_lexer": "ipython3",
   "version": "3.12.2"
  }
 },
 "nbformat": 4,
 "nbformat_minor": 5
}
