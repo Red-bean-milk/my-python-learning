{
 "cells": [
  {
   "cell_type": "code",
   "execution_count": 19,
   "id": "16387364",
   "metadata": {},
   "outputs": [
    {
     "name": "stdout",
     "output_type": "stream",
     "text": [
      "4181\n"
     ]
    },
    {
     "data": {
      "text/plain": [
       "13529"
      ]
     },
     "execution_count": 19,
     "metadata": {},
     "output_type": "execute_result"
    }
   ],
   "source": [
    "# 时间\n",
    "# 定义全局中的fib函数\n",
    "def fib(n):\n",
    "    if n == 0:\n",
    "        return 0\n",
    "    elif n == 1:\n",
    "        return 1\n",
    "    else:\n",
    "        return fib(n-2) + fib(n-1)\n",
    "\n",
    "# 定义高阶函数count.其中counted\n",
    "def count(f):      # 将函数f捕获进入count的局部变量中\n",
    "    def counted(n):\n",
    "        counted.call_count += 1\n",
    "        return f(n)    # 此时使用的都是捕获的f,就算之后全局中的f被重新绑定到别的函数上,这个f仍然是捕获时的f \n",
    "    counted.call_count = 0     # 函数也是对象.为函数counted定义call_count对象\n",
    "    return counted\n",
    "\n",
    "fib = count(fib)   # 全局中的fib函数更改绑定,绑定到count(fib),也就是counted上\n",
    "# 同时这也是装饰器的用法之一.还可以先定义这里的count(f)函数,然后再定义fib(n),并在fib(n)上以上使用@count进行装饰\n",
    "# 装饰器在不修改原函数代码的情况下，为函数添加新功能\n",
    "\n",
    "print(fib(19))\n",
    "fib.call_count"
   ]
  },
  {
   "cell_type": "code",
   "execution_count": 20,
   "id": "f74807ac",
   "metadata": {},
   "outputs": [
    {
     "name": "stdout",
     "output_type": "stream",
     "text": [
      "4181\n",
      "0\n",
      "19\n"
     ]
    }
   ],
   "source": [
    "# 空间\n",
    "def count_frames(f):\n",
    "    def counted(n):\n",
    "        counted.open_count += 1\n",
    "        counted.max_count = max(counted.open_count,counted.max_count)\n",
    "        result = f(n)  \n",
    "        counted.open_count -= 1\n",
    "        return result\n",
    "    counted.open_count = 0\n",
    "    counted.max_count = 0\n",
    "    return counted\n",
    "\n",
    "fib = count_frames(fib)\n",
    "print(fib(19))\n",
    "print(fib.open_count)\n",
    "print(fib.max_count)\n"
   ]
  },
  {
   "cell_type": "code",
   "execution_count": 25,
   "id": "4ad911b1",
   "metadata": {},
   "outputs": [
    {
     "name": "stdout",
     "output_type": "stream",
     "text": [
      "4181\n",
      "20\n"
     ]
    }
   ],
   "source": [
    "# 由于递归多次重复计算已经算过的值,我们可以考虑将已经计算过的值存起来,当下一次再遇到这个需要计算的表达式时,直接返回已经计算出的值\n",
    "# 这也就是'记忆化'\n",
    "def fib(n):\n",
    "    if n == 0:\n",
    "        return 0\n",
    "    elif n == 1:\n",
    "        return 1\n",
    "    else:\n",
    "        return fib(n-2) + fib(n-1)\n",
    "    \n",
    "def memo(f):\n",
    "    cache = {}   # cache是缓存的意思\n",
    "    def memorized(n):\n",
    "        if n not in cache:\n",
    "            cache[n] = f(n)\n",
    "        return cache[n]\n",
    "    return memorized\n",
    "\n",
    "counted_fib = count(fib)\n",
    "fib = memo(counted_fib)\n",
    "print(fib(19))\n",
    "print(counted_fib.call_count)"
   ]
  },
  {
   "cell_type": "code",
   "execution_count": null,
   "id": "b98d7579",
   "metadata": {},
   "outputs": [
    {
     "data": {
      "text/plain": [
       "21"
      ]
     },
     "execution_count": 1,
     "metadata": {},
     "output_type": "execute_result"
    }
   ],
   "source": [
    "# 求n的因数的个数\n",
    "from math import sqrt\n",
    "def count_factors(n):\n",
    "    sqrt_n = sqrt(n)\n",
    "    k,factors = 1,0\n",
    "    while k < sqrt_n:  # 将遍历1~n优化为到sqrt(n)\n",
    "        if n % k == 0:\n",
    "            factors+=2\n",
    "        k+=1\n",
    "    if k**2 == n:\n",
    "        factors+=1\n",
    "    return factors\n",
    "\n",
    "result = count_factors(576)\n",
    "result"
   ]
  },
  {
   "cell_type": "code",
   "execution_count": null,
   "id": "3d73d5ce",
   "metadata": {},
   "outputs": [
    {
     "data": {
      "text/plain": [
       "8"
      ]
     },
     "execution_count": 2,
     "metadata": {},
     "output_type": "execute_result"
    }
   ],
   "source": [
    "# 指数运算\n",
    "\n",
    "# 递归法\n",
    "def exp(b,n):\n",
    "    if n == 0:\n",
    "        return 1\n",
    "    else:\n",
    "        return b*exp(b,n-1)\n",
    "exp(2,3)"
   ]
  },
  {
   "cell_type": "code",
   "execution_count": null,
   "id": "1087ff6a",
   "metadata": {},
   "outputs": [
    {
     "data": {
      "text/plain": [
       "8"
      ]
     },
     "execution_count": 3,
     "metadata": {},
     "output_type": "execute_result"
    }
   ],
   "source": [
    "# 迭代法\n",
    "def exp_iter(b,n):\n",
    "    result = 1              # 空间复杂度为常数级\n",
    "    for _ in range(n):\n",
    "        result*=b\n",
    "    return result\n",
    "exp_iter(2,3) "
   ]
  },
  {
   "cell_type": "code",
   "execution_count": null,
   "id": "15f49ae1",
   "metadata": {},
   "outputs": [
    {
     "data": {
      "text/plain": [
       "8"
      ]
     },
     "execution_count": 4,
     "metadata": {},
     "output_type": "execute_result"
    }
   ],
   "source": [
    "# 快速exp,进一步优化\n",
    "# 当n为偶数时,b^n==(b^(n/2))^2   时间和空间复杂度均为对数级,当n特别大时,优化效果更加明显\n",
    "def fast_exp(b,n):\n",
    "    if n == 0:\n",
    "        return 1\n",
    "    elif n % 2 ==0 :\n",
    "        return fast_exp(b,n//2)**2\n",
    "    else:\n",
    "        return b*fast_exp(b,n-1)\n",
    "fast_exp(2,3)"
   ]
  },
  {
   "cell_type": "code",
   "execution_count": null,
   "id": "2bfb1af6",
   "metadata": {},
   "outputs": [
    {
     "name": "stdout",
     "output_type": "stream",
     "text": [
      "3\n",
      "3\n"
     ]
    }
   ],
   "source": [
    "# 嵌套过程的增长阶--相乘\n",
    "def overlap(a,b):\n",
    "    '''计算列表a中的元素在列表b中出现的个数'''\n",
    "    count = 0\n",
    "    for item in a:\n",
    "        if item in b:\n",
    "            count+=1\n",
    "    return count\n",
    "\n",
    "def overlap_two_for(a,b):\n",
    "    count = 0\n",
    "    for item_a in a:\n",
    "        for item_b in b:\n",
    "            if item_a == item_b:\n",
    "                count+=1\n",
    "    return count\n",
    "\n",
    "print(overlap([1, 3, 2, 2, 5, 1], [5, 4 ,2]))\n",
    "print(overlap_two_for([1, 3, 2, 2, 5, 1], [5, 4 ,2]))"
   ]
  },
  {
   "cell_type": "code",
   "execution_count": 10,
   "id": "ba24f7bb",
   "metadata": {},
   "outputs": [
    {
     "data": {
      "text/plain": [
       "3"
      ]
     },
     "execution_count": 10,
     "metadata": {},
     "output_type": "execute_result"
    }
   ],
   "source": [
    "def one_more(a):\n",
    "    return overlap(a,[x+1 for x in a])\n",
    "\n",
    "one_more([3, 14, 15, 9, 8, 2])"
   ]
  },
  {
   "cell_type": "code",
   "execution_count": null,
   "id": "c5fd0837",
   "metadata": {},
   "outputs": [],
   "source": []
  }
 ],
 "metadata": {
  "kernelspec": {
   "display_name": "Python 3",
   "language": "python",
   "name": "python3"
  },
  "language_info": {
   "codemirror_mode": {
    "name": "ipython",
    "version": 3
   },
   "file_extension": ".py",
   "mimetype": "text/x-python",
   "name": "python",
   "nbconvert_exporter": "python",
   "pygments_lexer": "ipython3",
   "version": "3.12.2"
  }
 },
 "nbformat": 4,
 "nbformat_minor": 5
}
