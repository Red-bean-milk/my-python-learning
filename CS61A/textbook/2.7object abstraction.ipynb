{
 "cells": [
  {
   "cell_type": "code",
   "execution_count": 35,
   "id": "54b2ecd0",
   "metadata": {},
   "outputs": [
    {
     "name": "stdout",
     "output_type": "stream",
     "text": [
      "datetime.date(2025, 10, 29)\n",
      "2025-10-29\n"
     ]
    }
   ],
   "source": [
    "from datetime import date\n",
    "tues = date(2025,10,29)\n",
    "print(repr(tues))   # repr函数返回一个python可解释的表达式\n",
    "print(str(tues))"
   ]
  },
  {
   "cell_type": "code",
   "execution_count": 36,
   "id": "a2db0987",
   "metadata": {},
   "outputs": [
    {
     "name": "stdout",
     "output_type": "stream",
     "text": [
      "datetime.date(2025, 10, 29)\n",
      "2025-10-29\n"
     ]
    }
   ],
   "source": [
    "print(tues.__repr__())   # 相当于调用repr(tues)时,在tues上调用__repr__方法\n",
    "print(tues.__str__())"
   ]
  },
  {
   "cell_type": "code",
   "execution_count": 37,
   "id": "d93bd0b8",
   "metadata": {},
   "outputs": [],
   "source": [
    "class Account:\n",
    "    interest = 0.02    # 类属性\n",
    "    def __init__(self,account_holder):\n",
    "        self.balance = 0\n",
    "        self.holder = account_holder\n",
    "    def deposit(self,amount):\n",
    "        self.balance = self.balance + amount\n",
    "        return self.balance\n",
    "    def withdraw(self,amount):\n",
    "        if self.balance < amount:\n",
    "            return 'Insufficient funds'\n",
    "        self.balance = self.balance - amount\n",
    "        return self.balance\n",
    "\n",
    "Account.__bool__ = lambda self: self.balance != 0"
   ]
  },
  {
   "cell_type": "code",
   "execution_count": 38,
   "id": "244ac162",
   "metadata": {},
   "outputs": [
    {
     "data": {
      "text/plain": [
       "False"
      ]
     },
     "execution_count": 38,
     "metadata": {},
     "output_type": "execute_result"
    }
   ],
   "source": [
    "jack_account = Account('Jack')\n",
    "jack_account.__bool__()   # 为Account类定义专门的判断真假值的函数"
   ]
  },
  {
   "cell_type": "code",
   "execution_count": 39,
   "id": "98e92867",
   "metadata": {},
   "outputs": [
    {
     "name": "stdout",
     "output_type": "stream",
     "text": [
      "0\n"
     ]
    }
   ],
   "source": [
    "print(jack_account.balance)"
   ]
  },
  {
   "cell_type": "code",
   "execution_count": 40,
   "id": "f81bc085",
   "metadata": {},
   "outputs": [
    {
     "name": "stdout",
     "output_type": "stream",
     "text": [
      "True\n"
     ]
    }
   ],
   "source": [
    "spock_account = Account('Spock')\n",
    "spock_account.balance = 100\n",
    "print(bool(spock_account))"
   ]
  },
  {
   "cell_type": "code",
   "execution_count": 41,
   "id": "79495106",
   "metadata": {},
   "outputs": [
    {
     "name": "stdout",
     "output_type": "stream",
     "text": [
      "True\n",
      "<bound method <lambda> of <__main__.Account object at 0x00000291813C8290>>\n"
     ]
    }
   ],
   "source": [
    "print(spock_account.__bool__())\n",
    "print(spock_account.__bool__)"
   ]
  },
  {
   "cell_type": "code",
   "execution_count": 42,
   "id": "0bd01412",
   "metadata": {},
   "outputs": [
    {
     "name": "stdout",
     "output_type": "stream",
     "text": [
      "12\n"
     ]
    },
    {
     "data": {
      "text/plain": [
       "12"
      ]
     },
     "execution_count": 42,
     "metadata": {},
     "output_type": "execute_result"
    }
   ],
   "source": [
    "# __len__()方法\n",
    "print(len('Hello World!'))\n",
    "'Hello World!'.__len__()"
   ]
  },
  {
   "cell_type": "code",
   "execution_count": 43,
   "id": "6902912a",
   "metadata": {},
   "outputs": [
    {
     "name": "stdout",
     "output_type": "stream",
     "text": [
      "False\n",
      "False\n",
      "True\n"
     ]
    }
   ],
   "source": [
    "# 如果序列没有提供 __bool__ 方法，那么 Python 会使用序列的长度来确定其真假值。\n",
    "# 空的序列是假值，而非空序列是真值。\n",
    "print(bool(''))\n",
    "print(bool([]))\n",
    "print(bool('Hello World!'))"
   ]
  },
  {
   "cell_type": "code",
   "execution_count": 44,
   "id": "4b2bc10e",
   "metadata": {},
   "outputs": [
    {
     "name": "stdout",
     "output_type": "stream",
     "text": [
      "l\n",
      "l\n"
     ]
    }
   ],
   "source": [
    "# __getitem__()方法\n",
    "print('Hello World!'[3])\n",
    "print('Hello World!'.__getitem__(3))"
   ]
  },
  {
   "cell_type": "code",
   "execution_count": 45,
   "id": "7bb7d69e",
   "metadata": {},
   "outputs": [
    {
     "data": {
      "text/plain": [
       "7"
      ]
     },
     "execution_count": 45,
     "metadata": {},
     "output_type": "execute_result"
    }
   ],
   "source": [
    "# 给对象包含一个__call__方法,可以定义一个行为像高阶函数的类,其实例对象是一个函数\n",
    "class Adder(object):  # (object)\n",
    "    def __init__(self,n):   # n\n",
    "        self.n = n          # self.n = n,而不是return\n",
    "    def __call__(self,k):\n",
    "        return self.n + k\n",
    "\n",
    "add_three_object = Adder(3) # (3) 表示给__init__的参数\n",
    "add_three_object(4)"
   ]
  },
  {
   "cell_type": "code",
   "execution_count": null,
   "id": "119a76c0",
   "metadata": {},
   "outputs": [],
   "source": [
    "#======2.7.3多重表示==================\n",
    "class Number:   # Number 的目的不是直接被初始化，而是作为一个不同特殊数值类的超类（superclass）提供服务\n",
    "    def __add__(self,other):\n",
    "        return self.add(other)\n",
    "    def __mul__(self,other):\n",
    "        return self.mul(other)\n",
    "    \n",
    "class Complex(Number):\n",
    "    def add(self,other):\n",
    "        return ComplexRI(self.real+other.real,self.imag+other.imag)\n",
    "    def mul(self,other):\n",
    "        magnitude = self.magnitude * other.magnitude\n",
    "        return ComplexMA(magnitude, self.angle+other.angle)\n",
    "\n",
    "\n",
    "from math import atan2\n",
    "class ComplexRI(Complex):\n",
    "    def __init__(self,real,imag):\n",
    "        self.real = real\n",
    "        self.imag = imag\n",
    "    \n",
    "    @property    # 让下面定义的方法可以用和调用属性值一样语法调用(即不需要使用括号)\n",
    "    def magnitude(self):\n",
    "        return (self.real ** 2 + self.imag ** 2)**0.5\n",
    "    @property\n",
    "    def angle(self):\n",
    "        return atan2(self.imag,self.real)\n",
    "    def __repr__(self):\n",
    "        return 'ComplexRI({0:g},{1:g})'.format(self.real,self.imag)\n",
    "\n",
    "\n",
    "from math import sin, cos, pi\n",
    "class ComplexMA(Complex):\n",
    "    def __init__(self,magnitude,angle):\n",
    "        self.magnitude = magnitude\n",
    "        self.angle = angle\n",
    "    \n",
    "    @property\n",
    "    def real(self):\n",
    "        return self.magnitude * cos(self.angle)\n",
    "    @property\n",
    "    def imag(self):\n",
    "        return self.magnitude * sin(self.angle)\n",
    "    def __repr__(self):\n",
    "        return 'ComplexMA({0:g},{1:g}*pi)'.format(self.magnitude,self.angle/pi)\n",
    "\n"
   ]
  },
  {
   "cell_type": "code",
   "execution_count": 47,
   "id": "5a1ac6b5",
   "metadata": {},
   "outputs": [],
   "source": [
    "ri = ComplexRI(5,12)"
   ]
  },
  {
   "cell_type": "code",
   "execution_count": 48,
   "id": "79362c74",
   "metadata": {},
   "outputs": [
    {
     "name": "stdout",
     "output_type": "stream",
     "text": [
      "5\n",
      "12\n",
      "13.0\n",
      "1.176005207095135\n",
      "ComplexRI(5,12)\n"
     ]
    }
   ],
   "source": [
    "print(ri.real)\n",
    "print(ri.imag)\n",
    "print(ri.magnitude)\n",
    "print(ri.angle)\n",
    "print(ri.__repr__())"
   ]
  },
  {
   "cell_type": "code",
   "execution_count": 49,
   "id": "67ef5734",
   "metadata": {},
   "outputs": [
    {
     "name": "stdout",
     "output_type": "stream",
     "text": [
      "15.0\n"
     ]
    }
   ],
   "source": [
    "ri.real = 9 # 修改ri的real属性值\n",
    "print(ri.magnitude)  # ri的magnitude属性也自动做了相应的修改"
   ]
  },
  {
   "cell_type": "code",
   "execution_count": 50,
   "id": "de638237",
   "metadata": {},
   "outputs": [
    {
     "name": "stdout",
     "output_type": "stream",
     "text": [
      "2.0\n",
      "1.2246467991473532e-16\n"
     ]
    }
   ],
   "source": [
    "ma = ComplexMA(2,pi/2)\n",
    "print(ma.imag)\n",
    "print(ma.real)"
   ]
  },
  {
   "cell_type": "code",
   "execution_count": 51,
   "id": "cf702d52",
   "metadata": {},
   "outputs": [
    {
     "data": {
      "text/plain": [
       "-2.0"
      ]
     },
     "execution_count": 51,
     "metadata": {},
     "output_type": "execute_result"
    }
   ],
   "source": [
    "ma.angle = pi\n",
    "ma.real"
   ]
  },
  {
   "cell_type": "code",
   "execution_count": 52,
   "id": "e01c598c",
   "metadata": {},
   "outputs": [
    {
     "data": {
      "text/plain": [
       "ComplexRI(1,4)"
      ]
     },
     "execution_count": 52,
     "metadata": {},
     "output_type": "execute_result"
    }
   ],
   "source": [
    "a = ComplexRI(1,2)\n",
    "b = ComplexMA(2,pi/2)\n",
    "a + b \n",
    "# python实际是这样运算的:a.__add__(b)\n",
    "# 然后开始从对象a所在的类,即ComplexRI中开始查找__add__方法,如果没找到就到父类中找\n",
    "# 最后在Number中找到,然后return a.add(b).也就是需要对对象a调用add()方法(传入参数为对象b),由于是对对象a使用方法,因此从ComplexRI开始查找add方法\n",
    "# 最后在Class中找到,并计算得出结果\n",
    "# 我在这的疑惑来源有两个:一,a+b为什么开始调用__add__,原因是python的解释;\n",
    "# 二,为什么在Number中的计算调用了Number子类定义的方法,原因是查找的顺序是从点表达式的对象self开始的."
   ]
  },
  {
   "cell_type": "code",
   "execution_count": 53,
   "id": "648c3328",
   "metadata": {},
   "outputs": [
    {
     "data": {
      "text/plain": [
       "ComplexMA(0,1.5*pi)"
      ]
     },
     "execution_count": 53,
     "metadata": {},
     "output_type": "execute_result"
    }
   ],
   "source": [
    "ComplexRI(0,1) * ComplexMA(0,pi)"
   ]
  },
  {
   "cell_type": "markdown",
   "id": "ac85b21c",
   "metadata": {},
   "source": [
    "这个复数的例子中通过real,imag,magnitude,angle四个属性(复数接口:任何复数都必须提供这四个属性),实现了不同表示的复数的相加和相乘.\n",
    "我们不需要知道复数表示的类型和具体实现细节,但我们知道它们一定有这四个属性,就可以实现复数相加和相乘\n",
    "面向对象的程序设计模式:'面向接口编程,而不是面向实现编程'"
   ]
  },
  {
   "cell_type": "code",
   "execution_count": 54,
   "id": "3e417606",
   "metadata": {},
   "outputs": [
    {
     "name": "stdout",
     "output_type": "stream",
     "text": [
      "Rational(4,3)\n",
      "Rational(1,3)\n"
     ]
    }
   ],
   "source": [
    "#========2.7.4泛型函数===============\n",
    "\n",
    "# 定义有理数类\n",
    "from math import gcd\n",
    "class Rational(Number):\n",
    "    def __init__(self,numer,denom):\n",
    "        g = gcd(numer,denom)\n",
    "        self.numer = numer // g\n",
    "        self.denom = denom // g\n",
    "    def __repr__(self):\n",
    "        return 'Rational({0},{1})'.format(self.numer,self.denom)\n",
    "    # def __str__(self):     # print的时候,如果没有定义__str__方法,则调用__repr__方法\n",
    "    #     # 友好的显示   \n",
    "    #     return '{}/{}'.format(self.numer, self.denom)\n",
    "    def add(self,other):\n",
    "        nx,dx = self.numer,self.denom\n",
    "        ny,dy = other.numer,other.denom\n",
    "        return Rational(nx*dy+ny*dx,dx*dy)\n",
    "    def mul(self,other):\n",
    "        numer = self.numer*other.numer\n",
    "        denom = self.denom*other.denom\n",
    "        return Rational(numer,denom)\n",
    "    \n",
    "print(Rational(1,2)+Rational(2,3)+Rational(1,6))\n",
    "print(Rational(1,2)*Rational(2,3))\n"
   ]
  },
  {
   "cell_type": "code",
   "execution_count": null,
   "id": "23635218",
   "metadata": {},
   "outputs": [
    {
     "name": "stdout",
     "output_type": "stream",
     "text": [
      "True\n",
      "False\n",
      "True\n",
      "True\n"
     ]
    }
   ],
   "source": [
    "# 类型派发:为实例对象加以归属,对归于同一类型的对象进行特定的操作,如果不属于同一类,则定义新的函数,输入不同类的对象,输出想要的结果\n",
    "\n",
    "# 判断某对象是否属于某类或继承于某类\n",
    "# 内置函数isinstance(对象,类)\n",
    "c = ComplexRI(1,1)\n",
    "print(isinstance(c,ComplexRI))\n",
    "print(isinstance(c,ComplexMA))\n",
    "print(isinstance(c,Complex))\n",
    "print(isinstance(c,Number))\n",
    "\n",
    "# 为实例对象提供类型标签type_tag:有理数:'rat',复数:'com'\n",
    "Rational.type_tag = 'rat'\n",
    "Complex.type_tag = 'com'\n",
    "\n",
    "# 结合复数和有理数\n",
    "def add_complex_and_rational(c,r):\n",
    "    return ComplexRI(c.real+r.numer/r.denom,c.imag)\n",
    "\n",
    "def mul_complex_and_rational(c,r):\n",
    "    r_magnitude,r_angle = r.numer/r.denom,0\n",
    "    if r_magnitude < 0:\n",
    "        r_magnitude,r_angle = -r.numer/r.denom,pi\n",
    "    return ComplexMA(c.magnitude * r_magnitude,c.angle+r_angle)\n",
    "\n",
    "def add_rational_and_complex(r,c):\n",
    "    return add_complex_and_rational(c,r)\n",
    "def mul_rational_and_complex(r,c):\n",
    "    return mul_complex_and_rational(c,r)\n"
   ]
  },
  {
   "cell_type": "code",
   "execution_count": null,
   "id": "1154b693",
   "metadata": {},
   "outputs": [],
   "source": [
    "# 重写Number类\n",
    "class Number:\n",
    "    def __add__(self,other):\n",
    "        if self.type_tag == other.type_tag:\n",
    "            return self.add(other)\n",
    "        elif (self.type_tag,other.type_tag) in self.adders:\n",
    "            return self.adders[(self.type_tag,other.type_tag)](self,other)\n",
    "        \n",
    "    def __mul__(self,other):\n",
    "        if self.type_tag == other.type_tag:\n",
    "            return self.mul(other)\n",
    "        elif (self.type_tag,other.type_tag) in self.multipliers:\n",
    "            return self.multipliers[(self.type_tag,other.type_tag)](self,other)\n",
    "\n",
    "    # def cross_apply()\n",
    "    adders = {('com','rat'):add_complex_and_rational,\n",
    "              ('rat','com'):add_rational_and_complex}\n",
    "    \n",
    "    multipliers = {('com','rat'):mul_complex_and_rational,\n",
    "                   ('rat','com'):mul_rational_and_complex}\n",
    "\n",
    "# See in 2.7object abstraction-rewrite Number.ipynb"
   ]
  },
  {
   "cell_type": "code",
   "execution_count": null,
   "id": "631ffc14",
   "metadata": {},
   "outputs": [],
   "source": [
    "#========强制转换=================\n",
    "# See in 2.7object abstraction-rewrite Number-2.ipynb"
   ]
  }
 ],
 "metadata": {
  "kernelspec": {
   "display_name": "Python 3",
   "language": "python",
   "name": "python3"
  },
  "language_info": {
   "codemirror_mode": {
    "name": "ipython",
    "version": 3
   },
   "file_extension": ".py",
   "mimetype": "text/x-python",
   "name": "python",
   "nbconvert_exporter": "python",
   "pygments_lexer": "ipython3",
   "version": "3.12.2"
  }
 },
 "nbformat": 4,
 "nbformat_minor": 5
}
