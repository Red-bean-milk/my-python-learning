{
 "cells": [
  {
   "cell_type": "code",
   "execution_count": null,
   "id": "a9dce0ca",
   "metadata": {},
   "outputs": [],
   "source": [
    "from math import sin, cos, pi\n",
    "def rational_to_complex(r):\n",
    "        return ComplexRI(r.numer/r.denom, 0)\n",
    "\n",
    "class Number:\n",
    "    def __add__(self,other):\n",
    "        x,y = self.coerce(other)\n",
    "        return x.add(y)\n",
    "    def __mul__(self,other):\n",
    "        x,y = self.coerce(other)\n",
    "        return x.mul(y)\n",
    "    \n",
    "    def coerce(self,other):          # coerce()方法用于将self和other对象转换为相同的类型,输出转换后的两个对象的元组\n",
    "         if self.type_tag == other.type_tag:\n",
    "              return self,other\n",
    "         elif (self.type_tag,other.type_tag) in self.coercions:\n",
    "              return (self.coerce_to(other.type_tag),other)\n",
    "         elif (other.type_tag,self.type_tag) in self.coercions:\n",
    "              return (self,other.coerce_to(self.type_tag))\n",
    "    def coerce_to(self,other_tag):  # coerce_to方法用于将self的类型转换为other的类型.面向对象设计的'单一职责原则'\n",
    "         coercion_fn = self.coercions[(self.type_tag,other_tag)]\n",
    "         return coercion_fn(self)\n",
    "\n",
    "    coercions = {('rat','com'):rational_to_complex}\n",
    "\n",
    "class Complex(Number):\n",
    "    def add(self,other):\n",
    "        return ComplexRI(self.real+other.real,self.imag+other.imag)\n",
    "    def mul(self,other):\n",
    "        magnitude = self.magnitude * other.magnitude\n",
    "        return ComplexMA(magnitude, self.angle+other.angle)\n",
    "\n",
    "\n",
    "from math import atan2\n",
    "class ComplexRI(Complex):\n",
    "    def __init__(self,real,imag):\n",
    "        self.real = real\n",
    "        self.imag = imag\n",
    "    \n",
    "    @property    # 让下面定义的方法可以用和调用属性值一样语法调用(即不需要使用括号)\n",
    "    def magnitude(self):\n",
    "        return (self.real ** 2 + self.imag ** 2)**0.5\n",
    "    @property\n",
    "    def angle(self):\n",
    "        return atan2(self.imag,self.real)\n",
    "    def __repr__(self):\n",
    "        return 'ComplexRI({0:g},{1:g})'.format(self.real,self.imag)\n",
    "\n",
    "\n",
    "class ComplexMA(Complex):\n",
    "    def __init__(self,magnitude,angle):\n",
    "        self.magnitude = magnitude\n",
    "        self.angle = angle\n",
    "    \n",
    "    @property\n",
    "    def real(self):\n",
    "        return self.magnitude * cos(self.angle)\n",
    "    @property\n",
    "    def imag(self):\n",
    "        return self.magnitude * sin(self.angle)\n",
    "    def __repr__(self):\n",
    "        return 'ComplexMA({0:g},{1:g}*pi)'.format(self.magnitude,self.angle/pi)\n",
    "\n",
    "from math import gcd\n",
    "class Rational(Number):\n",
    "    def __init__(self,numer,denom):\n",
    "        g = gcd(numer,denom)\n",
    "        self.numer = numer // g\n",
    "        self.denom = denom // g\n",
    "    def __repr__(self):\n",
    "        return 'Rational({0},{1})'.format(self.numer,self.denom)\n",
    "    # def __str__(self):     # print的时候,如果没有定义__str__方法,则调用__repr__方法\n",
    "    #     # 友好的显示   \n",
    "    #     return '{}/{}'.format(self.numer, self.denom)\n",
    "    def add(self,other):\n",
    "        nx,dx = self.numer,self.denom\n",
    "        ny,dy = other.numer,other.denom\n",
    "        return Rational(nx*dy+ny*dx,dx*dy)\n",
    "    def mul(self,other):\n",
    "        numer = self.numer*other.numer\n",
    "        denom = self.denom*other.denom\n",
    "        return Rational(numer,denom)    \n",
    "\n",
    "Rational.type_tag = 'rat'\n",
    "Complex.type_tag = 'com'"
   ]
  },
  {
   "cell_type": "code",
   "execution_count": 2,
   "id": "9caf5e73",
   "metadata": {},
   "outputs": [
    {
     "data": {
      "text/plain": [
       "ComplexRI(3,0)"
      ]
     },
     "execution_count": 2,
     "metadata": {},
     "output_type": "execute_result"
    }
   ],
   "source": [
    "ComplexRI(1.5, 0) + Rational(3, 2)"
   ]
  },
  {
   "cell_type": "code",
   "execution_count": 3,
   "id": "830f9ee4",
   "metadata": {},
   "outputs": [
    {
     "data": {
      "text/plain": [
       "ComplexMA(2,1.5*pi)"
      ]
     },
     "execution_count": 3,
     "metadata": {},
     "output_type": "execute_result"
    }
   ],
   "source": [
    "Rational(-1, 2) * ComplexMA(4, pi/2)"
   ]
  }
 ],
 "metadata": {
  "kernelspec": {
   "display_name": "Python 3",
   "language": "python",
   "name": "python3"
  },
  "language_info": {
   "codemirror_mode": {
    "name": "ipython",
    "version": 3
   },
   "file_extension": ".py",
   "mimetype": "text/x-python",
   "name": "python",
   "nbconvert_exporter": "python",
   "pygments_lexer": "ipython3",
   "version": "3.12.2"
  }
 },
 "nbformat": 4,
 "nbformat_minor": 5
}
