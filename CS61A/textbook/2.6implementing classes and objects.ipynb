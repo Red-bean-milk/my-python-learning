{
 "cells": [
  {
   "cell_type": "code",
   "execution_count": null,
   "id": "5ce105ba",
   "metadata": {},
   "outputs": [],
   "source": [
    "# 为了说明使用对象的隐喻不需要特定的编程语言\n",
    "# 这章用函数和字典实现类和对象\n",
    "# 在没有内置对象系统的编程语言中，也是可以面向对象的"
   ]
  },
  {
   "cell_type": "code",
   "execution_count": null,
   "id": "914f30b0",
   "metadata": {},
   "outputs": [],
   "source": [
    "# 定义实例对象\n",
    "def make_instance(cls):  # 以'类'(这里'类'是我们要实现的东西,这里实际是一个调度字典)作为形式参数\n",
    "    '''返回一个新的实例对象,是一个调度字典'''\n",
    "    def get_value(name):\n",
    "        if name in attributes:  # 属性存储在一个名为attributes的局部字典中\n",
    "            return attributes[name]\n",
    "        else:\n",
    "            value = cls['get'](name)   # 属性name如果没有在实例的属性(局部的attributes字典)中,则在类中查找\n",
    "            return bind_method(value,instance)\n",
    "    def set_value(name,value):\n",
    "        '''与python对象系统中的属性赋值操作对应'''\n",
    "        attributes[name] = value\n",
    "    attributes = {}\n",
    "    instance = {'get':get_value,'set':set_value}\n",
    "    return instance\n",
    "\n",
    "def bind_method(value,instance):\n",
    "    '''如果value是可调用的函数,则返回绑定了对象的方法;如果value是值,则返回其值'''\n",
    "    if callable(value):\n",
    "        def method(*args):\n",
    "            return value(instance,*args)\n",
    "        return method\n",
    "    else:\n",
    "        return value\n",
    "\n",
    "# 定义类\n",
    "def make_class(attributes,base_class=None):\n",
    "    '''返回一个新的类,是一个调度字典'''\n",
    "    def get_value(name):\n",
    "        if name in attributes:\n",
    "            return attributes[name]\n",
    "        elif base_class is not None:  # 如果当前类中没有名为name的属性,则到其基类(父类)中查找\n",
    "            return base_class['get'](name)\n",
    "    def set_value(name,value):\n",
    "        attributes[name] = value\n",
    "    def new(*args):    # 新建对象\n",
    "        return init_instance(cls,*args)\n",
    "    cls = {'get':get_value,'set':set_value,'new':new}\n",
    "    return cls\n",
    "\n",
    "def init_instance(cls,*args):\n",
    "    '''创建一个新的空实例对象,并调用'__init__'为其填充创建的类中所定义的初始化属性'''\n",
    "    instance = make_instance(cls)\n",
    "    init = cls['get']('__init__')\n",
    "    if init:     # ?\n",
    "        init(instance,*args)\n",
    "    return instance\n"
   ]
  },
  {
   "cell_type": "code",
   "execution_count": 17,
   "id": "c02e50ac",
   "metadata": {},
   "outputs": [],
   "source": [
    "# 使用上面实现的对象系统,以2.5的账户为例\n",
    "# 创建类\n",
    "def make_account_class():\n",
    "    '''创建一个Account类,有deposit和withdraw方法'''\n",
    "    interest = 0.02\n",
    "    def __init__(self,account_holder):\n",
    "        self['set']('holder',account_holder)\n",
    "        self['set']('balance',0)\n",
    "    def deposit(self,amount):\n",
    "        new_balance = self['get']('balance')+amount\n",
    "        self['set']('balance',new_balance)\n",
    "        return self['get']('balance')\n",
    "    def withdraw(self,amount):\n",
    "        balance = self['get']('balance')\n",
    "        if amount > balance:\n",
    "            return 'Insufficient funds'\n",
    "        self['set']('balance',balance - amount)\n",
    "        return self['get']('balance')\n",
    "    # print(locals())\n",
    "    return make_class(locals())"
   ]
  },
  {
   "cell_type": "code",
   "execution_count": 15,
   "id": "78c311c3",
   "metadata": {},
   "outputs": [
    {
     "name": "stdout",
     "output_type": "stream",
     "text": [
      "{'interest': 0.02, '__init__': <function make_account_class.<locals>.__init__ at 0x0000019DE36FFE20>, 'deposit': <function make_account_class.<locals>.deposit at 0x0000019DE36FFD80>, 'withdraw': <function make_account_class.<locals>.withdraw at 0x0000019DE36FFEC0>}\n"
     ]
    },
    {
     "data": {
      "text/plain": [
       "{'get': <function __main__.make_class.<locals>.get_value(name)>,\n",
       " 'set': <function __main__.make_class.<locals>.set_value(name, value)>,\n",
       " 'new': <function __main__.make_class.<locals>.new(*args)>}"
      ]
     },
     "execution_count": 15,
     "metadata": {},
     "output_type": "execute_result"
    }
   ],
   "source": [
    "make_account_class()"
   ]
  },
  {
   "cell_type": "code",
   "execution_count": 18,
   "id": "6118cd45",
   "metadata": {},
   "outputs": [],
   "source": [
    "Account = make_account_class()"
   ]
  },
  {
   "cell_type": "code",
   "execution_count": 19,
   "id": "70b7e897",
   "metadata": {},
   "outputs": [],
   "source": [
    "kirk_account = Account['new']('kirk')"
   ]
  },
  {
   "cell_type": "code",
   "execution_count": 20,
   "id": "f80c7f20",
   "metadata": {},
   "outputs": [
    {
     "name": "stdout",
     "output_type": "stream",
     "text": [
      "kirk\n",
      "0.02\n",
      "20\n",
      "15\n"
     ]
    }
   ],
   "source": [
    "print(kirk_account['get']('holder'))\n",
    "print(kirk_account['get']('interest'))\n",
    "print(kirk_account['get']('deposit')(20))\n",
    "print(kirk_account['get']('withdraw')(5))"
   ]
  },
  {
   "cell_type": "code",
   "execution_count": 21,
   "id": "a404562c",
   "metadata": {},
   "outputs": [
    {
     "data": {
      "text/plain": [
       "0.02"
      ]
     },
     "execution_count": 21,
     "metadata": {},
     "output_type": "execute_result"
    }
   ],
   "source": [
    "kirk_account['set']('interest',0.04)\n",
    "Account['get']('interest')"
   ]
  },
  {
   "cell_type": "code",
   "execution_count": 22,
   "id": "aa2090f6",
   "metadata": {},
   "outputs": [],
   "source": [
    "# 创建Account的子类\n",
    "def make_checking_account_class():\n",
    "    interest = 0.01\n",
    "    withdraw_fee = 1  # withdraw_charge\n",
    "    def withdraw(self,amount):\n",
    "        fee = self['get']('withdraw_fee')\n",
    "        return Account['get']('withdraw')(self,amount+fee)\n",
    "    return make_class(locals(),Account)"
   ]
  },
  {
   "cell_type": "code",
   "execution_count": 23,
   "id": "40e9bfcf",
   "metadata": {},
   "outputs": [],
   "source": [
    "CheckingAccount = make_checking_account_class()\n",
    "jack_acct = CheckingAccount['new']('Spock')"
   ]
  },
  {
   "cell_type": "code",
   "execution_count": 24,
   "id": "18ac48bf",
   "metadata": {},
   "outputs": [
    {
     "name": "stdout",
     "output_type": "stream",
     "text": [
      "0.01\n",
      "20\n",
      "14\n"
     ]
    }
   ],
   "source": [
    "print(jack_acct['get']('interest'))\n",
    "print(jack_acct['get']('deposit')(20))\n",
    "print(jack_acct['get']('withdraw')(5))"
   ]
  },
  {
   "cell_type": "code",
   "execution_count": null,
   "id": "14a7be18",
   "metadata": {},
   "outputs": [],
   "source": []
  }
 ],
 "metadata": {
  "kernelspec": {
   "display_name": "Python 3",
   "language": "python",
   "name": "python3"
  },
  "language_info": {
   "codemirror_mode": {
    "name": "ipython",
    "version": 3
   },
   "file_extension": ".py",
   "mimetype": "text/x-python",
   "name": "python",
   "nbconvert_exporter": "python",
   "pygments_lexer": "ipython3",
   "version": "3.12.2"
  }
 },
 "nbformat": 4,
 "nbformat_minor": 5
}
